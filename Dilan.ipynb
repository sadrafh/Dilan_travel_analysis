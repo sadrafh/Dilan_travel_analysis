{
 "cells": [
  {
   "cell_type": "markdown",
   "metadata": {},
   "source": [
    "# Dilan's Travel App"
   ]
  },
  {
   "cell_type": "markdown",
   "metadata": {},
   "source": [
    "We will use the `Cross Industry Standard Process for Data Mining (CRISP-DM)` to complete this project!"
   ]
  },
  {
   "cell_type": "markdown",
   "metadata": {},
   "source": [
    "### 1) Business Understanding"
   ]
  },
  {
   "cell_type": "markdown",
   "metadata": {},
   "source": [
    "Dilan is a world traveler and a solo entrepreneur. He writes a travel blog where he sells info products: a `$8 ` e-book (World Travelers' Best Practices) and a `$80 ` video course (How To Travel the World).\n",
    "\n",
    "On his blog he has thousands of readers every day, coming from three sources: Reddit, SEO and AdWords.\n",
    "\n",
    "Dilan writes about his travel experiences covering the 6 main continents of the planet - these are the main categories on the blog.\n",
    "\n",
    "The business strategy is simple:(1) New readers visit the blog, (2) They read articles, (3) They subscribe to the newsletter,(4)They purchase the info products.\n",
    "\n",
    "Dilan's travel blog is available in 8 (and only 8) different countries. The marketing budget is not too high at the moment: Dilan spends only $ 1000 a month combined:\n",
    "\n",
    "`1) Adwords advertisement (~$500 a month for paid ads)`,\n",
    "\n",
    "`2) SEO($ 250 a month for editing) and`\n",
    "\n",
    "`3) Reddit (~$250 for content creation)`\n",
    "\n",
    "`4) And he only has two products!`\n",
    "\n",
    "He wants to invest more (time, work and money) and that is the reason of this project! \n",
    "\n",
    "This analysis aims to adrdress three questions:\n",
    "\n",
    "`1) What is the startegy for each category based on the number of vistors?`;\n",
    "\n",
    "`2) In which country should he prioritise his effort and why `;\n",
    "\n",
    "`3) What will be revenue of Dilan based on the user id of visitors?`.\n"
   ]
  },
  {
   "cell_type": "markdown",
   "metadata": {},
   "source": [
    "### 2) Data Understanding"
   ]
  },
  {
   "cell_type": "markdown",
   "metadata": {},
   "source": [
    "\n",
    "## First-time users: `read_1`\n",
    "\n",
    "In this table, the first-time accesses are recorded. The fields are the same as described (`date_event`, `time_event`, `event`, `country`, `user_id`, `source`, `topic`), except the original field describing both date and time was divided into separate `date_event` and `time_event` fields.\n",
    "\n",
    "## Return users: `read_2on`\n",
    "\n",
    "In this table, the return accesses are recorded. The fields are the same as described (`date_event`, `time_event`, `event`, `country`, `user_id`, `topic`), except the original field describing both date and time was divided into separate `date_event` and `time_event` fields.\n",
    "\n",
    "## Subscribers: `subscribe`\n",
    "\n",
    "In this table, the subscription events are recorded. The fields are the same as described (`date_event`, `time_event`, `event`, `user_id`), except the original field describing both date and time was divided into separate `date_event` and `time_event` fields.\n",
    "\n",
    "## Paid customers: `buy`\n",
    "\n",
    "In this table, the subscription events are recorded. The fields are the same as described (`date_event`, `time_event`, `event`, `user_id` `price`), except the original field describing both date and time was divided into separate `date_event` and `time_event` fields."
   ]
  },
  {
   "cell_type": "markdown",
   "metadata": {},
   "source": [
    "## Importing libraries"
   ]
  },
  {
   "cell_type": "code",
   "execution_count": 4,
   "metadata": {},
   "outputs": [],
   "source": [
    "import numpy as np\n",
    "import pandas as pd\n",
    "import matplotlib\n",
    "import matplotlib.pyplot as plt \n",
    "import seaborn as sns"
   ]
  },
  {
   "cell_type": "markdown",
   "metadata": {},
   "source": [
    "## Loading teh datas"
   ]
  },
  {
   "cell_type": "code",
   "execution_count": 5,
   "metadata": {},
   "outputs": [],
   "source": [
    "#Loading the data\n",
    "raw_data=pd.read_csv('C:/Users\\mfardhossein/Documents/Udacity/Project_1/dilans_data.csv', delimiter = ';',names = ['day_time', 'event_type', 'country', 'user_id','source', 'topic'], parse_dates = ['day_time'])\n"
   ]
  },
  {
   "cell_type": "code",
   "execution_count": 6,
   "metadata": {},
   "outputs": [
    {
     "data": {
      "text/html": [
       "<div>\n",
       "<style scoped>\n",
       "    .dataframe tbody tr th:only-of-type {\n",
       "        vertical-align: middle;\n",
       "    }\n",
       "\n",
       "    .dataframe tbody tr th {\n",
       "        vertical-align: top;\n",
       "    }\n",
       "\n",
       "    .dataframe thead th {\n",
       "        text-align: right;\n",
       "    }\n",
       "</style>\n",
       "<table border=\"1\" class=\"dataframe\">\n",
       "  <thead>\n",
       "    <tr style=\"text-align: right;\">\n",
       "      <th></th>\n",
       "      <th>day_time</th>\n",
       "      <th>event_type</th>\n",
       "      <th>country</th>\n",
       "      <th>user_id</th>\n",
       "      <th>source</th>\n",
       "      <th>topic</th>\n",
       "    </tr>\n",
       "  </thead>\n",
       "  <tbody>\n",
       "    <tr>\n",
       "      <th>0</th>\n",
       "      <td>2018-01-01 00:01:01</td>\n",
       "      <td>read</td>\n",
       "      <td>country_7</td>\n",
       "      <td>2.458151e+09</td>\n",
       "      <td>SEO</td>\n",
       "      <td>North America</td>\n",
       "    </tr>\n",
       "    <tr>\n",
       "      <th>1</th>\n",
       "      <td>2018-01-01 00:03:20</td>\n",
       "      <td>read</td>\n",
       "      <td>country_7</td>\n",
       "      <td>2.458151e+09</td>\n",
       "      <td>SEO</td>\n",
       "      <td>South America</td>\n",
       "    </tr>\n",
       "    <tr>\n",
       "      <th>2</th>\n",
       "      <td>2018-01-01 00:04:01</td>\n",
       "      <td>read</td>\n",
       "      <td>country_7</td>\n",
       "      <td>2.458151e+09</td>\n",
       "      <td>AdWords</td>\n",
       "      <td>Africa</td>\n",
       "    </tr>\n",
       "    <tr>\n",
       "      <th>3</th>\n",
       "      <td>2018-01-01 00:04:02</td>\n",
       "      <td>read</td>\n",
       "      <td>country_7</td>\n",
       "      <td>2.458151e+09</td>\n",
       "      <td>AdWords</td>\n",
       "      <td>Europe</td>\n",
       "    </tr>\n",
       "    <tr>\n",
       "      <th>4</th>\n",
       "      <td>2018-01-01 00:05:03</td>\n",
       "      <td>read</td>\n",
       "      <td>country_8</td>\n",
       "      <td>2.458151e+09</td>\n",
       "      <td>Reddit</td>\n",
       "      <td>North America</td>\n",
       "    </tr>\n",
       "  </tbody>\n",
       "</table>\n",
       "</div>"
      ],
      "text/plain": [
       "             day_time event_type    country       user_id   source  \\\n",
       "0 2018-01-01 00:01:01       read  country_7  2.458151e+09      SEO   \n",
       "1 2018-01-01 00:03:20       read  country_7  2.458151e+09      SEO   \n",
       "2 2018-01-01 00:04:01       read  country_7  2.458151e+09  AdWords   \n",
       "3 2018-01-01 00:04:02       read  country_7  2.458151e+09  AdWords   \n",
       "4 2018-01-01 00:05:03       read  country_8  2.458151e+09   Reddit   \n",
       "\n",
       "           topic  \n",
       "0  North America  \n",
       "1  South America  \n",
       "2         Africa  \n",
       "3         Europe  \n",
       "4  North America  "
      ]
     },
     "execution_count": 6,
     "metadata": {},
     "output_type": "execute_result"
    }
   ],
   "source": [
    "raw_data.head()"
   ]
  },
  {
   "cell_type": "code",
   "execution_count": 7,
   "metadata": {},
   "outputs": [
    {
     "data": {
      "text/plain": [
       "day_time      datetime64[ns]\n",
       "event_type            object\n",
       "country               object\n",
       "user_id              float64\n",
       "source                object\n",
       "topic                 object\n",
       "dtype: object"
      ]
     },
     "execution_count": 7,
     "metadata": {},
     "output_type": "execute_result"
    }
   ],
   "source": [
    "#Exploring the tyeps of the data\n",
    "raw_data.dtypes"
   ]
  },
  {
   "cell_type": "code",
   "execution_count": 8,
   "metadata": {},
   "outputs": [
    {
     "data": {
      "text/plain": [
       "read         581877\n",
       "buy            8407\n",
       "subscribe      7618\n",
       "Name: event_type, dtype: int64"
      ]
     },
     "execution_count": 8,
     "metadata": {},
     "output_type": "execute_result"
    }
   ],
   "source": [
    "#Exploring the types of the peopel who see Dilans' weblog\n",
    "raw_data['event_type'].value_counts()"
   ]
  },
  {
   "cell_type": "markdown",
   "metadata": {},
   "source": [
    "## A graph representing  users who have seen Dilan's blog!"
   ]
  },
  {
   "cell_type": "code",
   "execution_count": 9,
   "metadata": {},
   "outputs": [
    {
     "data": {
      "text/plain": [
       "Text(0.5, 1.0, \"Users' member\")"
      ]
     },
     "execution_count": 9,
     "metadata": {},
     "output_type": "execute_result"
    },
    {
     "data": {
      "image/png": "[encoded data removed]",
      "text/plain": [
       "<Figure size 432x288 with 1 Axes>"
      ]
     },
     "metadata": {
      "needs_background": "light"
     },
     "output_type": "display_data"
    }
   ],
   "source": [
    "First_analysis= raw_data['event_type'].value_counts().plot(kind=\"bar\")\n",
    "plt.title(\"Users' member\")"
   ]
  },
  {
   "cell_type": "markdown",
   "metadata": {},
   "source": [
    "This is stil not fine as we need to count the new readers and the peopel who come back for reading dilan's materials. So we need to find the first readers and ther returning readers!\n"
   ]
  },
  {
   "cell_type": "code",
   "execution_count": 10,
   "metadata": {},
   "outputs": [],
   "source": [
    "#Finding all peopel who just read Dilan's materials!\n",
    "xx=raw_data[raw_data.event_type== 'read']"
   ]
  },
  {
   "cell_type": "code",
   "execution_count": 11,
   "metadata": {},
   "outputs": [
    {
     "data": {
      "text/html": [
       "<div>\n",
       "<style scoped>\n",
       "    .dataframe tbody tr th:only-of-type {\n",
       "        vertical-align: middle;\n",
       "    }\n",
       "\n",
       "    .dataframe tbody tr th {\n",
       "        vertical-align: top;\n",
       "    }\n",
       "\n",
       "    .dataframe thead th {\n",
       "        text-align: right;\n",
       "    }\n",
       "</style>\n",
       "<table border=\"1\" class=\"dataframe\">\n",
       "  <thead>\n",
       "    <tr style=\"text-align: right;\">\n",
       "      <th></th>\n",
       "      <th>day_time</th>\n",
       "      <th>event_type</th>\n",
       "      <th>country</th>\n",
       "      <th>user_id</th>\n",
       "      <th>source</th>\n",
       "      <th>topic</th>\n",
       "    </tr>\n",
       "  </thead>\n",
       "  <tbody>\n",
       "    <tr>\n",
       "      <th>0</th>\n",
       "      <td>2018-01-01 00:01:01</td>\n",
       "      <td>read</td>\n",
       "      <td>country_7</td>\n",
       "      <td>2.458151e+09</td>\n",
       "      <td>SEO</td>\n",
       "      <td>North America</td>\n",
       "    </tr>\n",
       "    <tr>\n",
       "      <th>1</th>\n",
       "      <td>2018-01-01 00:03:20</td>\n",
       "      <td>read</td>\n",
       "      <td>country_7</td>\n",
       "      <td>2.458151e+09</td>\n",
       "      <td>SEO</td>\n",
       "      <td>South America</td>\n",
       "    </tr>\n",
       "    <tr>\n",
       "      <th>2</th>\n",
       "      <td>2018-01-01 00:04:01</td>\n",
       "      <td>read</td>\n",
       "      <td>country_7</td>\n",
       "      <td>2.458151e+09</td>\n",
       "      <td>AdWords</td>\n",
       "      <td>Africa</td>\n",
       "    </tr>\n",
       "    <tr>\n",
       "      <th>3</th>\n",
       "      <td>2018-01-01 00:04:02</td>\n",
       "      <td>read</td>\n",
       "      <td>country_7</td>\n",
       "      <td>2.458151e+09</td>\n",
       "      <td>AdWords</td>\n",
       "      <td>Europe</td>\n",
       "    </tr>\n",
       "    <tr>\n",
       "      <th>4</th>\n",
       "      <td>2018-01-01 00:05:03</td>\n",
       "      <td>read</td>\n",
       "      <td>country_8</td>\n",
       "      <td>2.458151e+09</td>\n",
       "      <td>Reddit</td>\n",
       "      <td>North America</td>\n",
       "    </tr>\n",
       "  </tbody>\n",
       "</table>\n",
       "</div>"
      ],
      "text/plain": [
       "             day_time event_type    country       user_id   source  \\\n",
       "0 2018-01-01 00:01:01       read  country_7  2.458151e+09      SEO   \n",
       "1 2018-01-01 00:03:20       read  country_7  2.458151e+09      SEO   \n",
       "2 2018-01-01 00:04:01       read  country_7  2.458151e+09  AdWords   \n",
       "3 2018-01-01 00:04:02       read  country_7  2.458151e+09  AdWords   \n",
       "4 2018-01-01 00:05:03       read  country_8  2.458151e+09   Reddit   \n",
       "\n",
       "           topic  \n",
       "0  North America  \n",
       "1  South America  \n",
       "2         Africa  \n",
       "3         Europe  \n",
       "4  North America  "
      ]
     },
     "execution_count": 11,
     "metadata": {},
     "output_type": "execute_result"
    }
   ],
   "source": [
    "xx.head()"
   ]
  },
  {
   "cell_type": "code",
   "execution_count": 12,
   "metadata": {},
   "outputs": [
    {
     "data": {
      "text/html": [
       "<div>\n",
       "<style scoped>\n",
       "    .dataframe tbody tr th:only-of-type {\n",
       "        vertical-align: middle;\n",
       "    }\n",
       "\n",
       "    .dataframe tbody tr th {\n",
       "        vertical-align: top;\n",
       "    }\n",
       "\n",
       "    .dataframe thead th {\n",
       "        text-align: right;\n",
       "    }\n",
       "</style>\n",
       "<table border=\"1\" class=\"dataframe\">\n",
       "  <thead>\n",
       "    <tr style=\"text-align: right;\">\n",
       "      <th></th>\n",
       "      <th>day_time</th>\n",
       "      <th>event_type</th>\n",
       "      <th>country</th>\n",
       "      <th>user_id</th>\n",
       "      <th>source</th>\n",
       "      <th>topic</th>\n",
       "    </tr>\n",
       "  </thead>\n",
       "  <tbody>\n",
       "    <tr>\n",
       "      <th>0</th>\n",
       "      <td>2018-01-01 00:01:01</td>\n",
       "      <td>read</td>\n",
       "      <td>country_7</td>\n",
       "      <td>2.458151e+09</td>\n",
       "      <td>SEO</td>\n",
       "      <td>North America</td>\n",
       "    </tr>\n",
       "    <tr>\n",
       "      <th>1</th>\n",
       "      <td>2018-01-01 00:03:20</td>\n",
       "      <td>read</td>\n",
       "      <td>country_7</td>\n",
       "      <td>2.458151e+09</td>\n",
       "      <td>SEO</td>\n",
       "      <td>South America</td>\n",
       "    </tr>\n",
       "    <tr>\n",
       "      <th>2</th>\n",
       "      <td>2018-01-01 00:04:01</td>\n",
       "      <td>read</td>\n",
       "      <td>country_7</td>\n",
       "      <td>2.458151e+09</td>\n",
       "      <td>AdWords</td>\n",
       "      <td>Africa</td>\n",
       "    </tr>\n",
       "    <tr>\n",
       "      <th>3</th>\n",
       "      <td>2018-01-01 00:04:02</td>\n",
       "      <td>read</td>\n",
       "      <td>country_7</td>\n",
       "      <td>2.458151e+09</td>\n",
       "      <td>AdWords</td>\n",
       "      <td>Europe</td>\n",
       "    </tr>\n",
       "    <tr>\n",
       "      <th>4</th>\n",
       "      <td>2018-01-01 00:05:03</td>\n",
       "      <td>read</td>\n",
       "      <td>country_8</td>\n",
       "      <td>2.458151e+09</td>\n",
       "      <td>Reddit</td>\n",
       "      <td>North America</td>\n",
       "    </tr>\n",
       "    <tr>\n",
       "      <th>...</th>\n",
       "      <td>...</td>\n",
       "      <td>...</td>\n",
       "      <td>...</td>\n",
       "      <td>...</td>\n",
       "      <td>...</td>\n",
       "      <td>...</td>\n",
       "    </tr>\n",
       "    <tr>\n",
       "      <th>597897</th>\n",
       "      <td>2018-03-31 04:34:32</td>\n",
       "      <td>read</td>\n",
       "      <td>country_4</td>\n",
       "      <td>2.458361e+09</td>\n",
       "      <td>Africa</td>\n",
       "      <td>NaN</td>\n",
       "    </tr>\n",
       "    <tr>\n",
       "      <th>597898</th>\n",
       "      <td>2018-03-31 05:02:06</td>\n",
       "      <td>read</td>\n",
       "      <td>country_6</td>\n",
       "      <td>2.458361e+09</td>\n",
       "      <td>Asia</td>\n",
       "      <td>NaN</td>\n",
       "    </tr>\n",
       "    <tr>\n",
       "      <th>597899</th>\n",
       "      <td>2018-03-31 05:02:14</td>\n",
       "      <td>read</td>\n",
       "      <td>country_7</td>\n",
       "      <td>2.458361e+09</td>\n",
       "      <td>North America</td>\n",
       "      <td>NaN</td>\n",
       "    </tr>\n",
       "    <tr>\n",
       "      <th>597900</th>\n",
       "      <td>2018-03-31 05:03:53</td>\n",
       "      <td>read</td>\n",
       "      <td>country_7</td>\n",
       "      <td>2.458361e+09</td>\n",
       "      <td>Europe</td>\n",
       "      <td>NaN</td>\n",
       "    </tr>\n",
       "    <tr>\n",
       "      <th>597901</th>\n",
       "      <td>2018-03-31 05:04:50</td>\n",
       "      <td>read</td>\n",
       "      <td>country_4</td>\n",
       "      <td>2.458361e+09</td>\n",
       "      <td>Africa</td>\n",
       "      <td>NaN</td>\n",
       "    </tr>\n",
       "  </tbody>\n",
       "</table>\n",
       "<p>581877 rows × 6 columns</p>\n",
       "</div>"
      ],
      "text/plain": [
       "                  day_time event_type    country       user_id         source  \\\n",
       "0      2018-01-01 00:01:01       read  country_7  2.458151e+09            SEO   \n",
       "1      2018-01-01 00:03:20       read  country_7  2.458151e+09            SEO   \n",
       "2      2018-01-01 00:04:01       read  country_7  2.458151e+09        AdWords   \n",
       "3      2018-01-01 00:04:02       read  country_7  2.458151e+09        AdWords   \n",
       "4      2018-01-01 00:05:03       read  country_8  2.458151e+09         Reddit   \n",
       "...                    ...        ...        ...           ...            ...   \n",
       "597897 2018-03-31 04:34:32       read  country_4  2.458361e+09         Africa   \n",
       "597898 2018-03-31 05:02:06       read  country_6  2.458361e+09           Asia   \n",
       "597899 2018-03-31 05:02:14       read  country_7  2.458361e+09  North America   \n",
       "597900 2018-03-31 05:03:53       read  country_7  2.458361e+09         Europe   \n",
       "597901 2018-03-31 05:04:50       read  country_4  2.458361e+09         Africa   \n",
       "\n",
       "                topic  \n",
       "0       North America  \n",
       "1       South America  \n",
       "2              Africa  \n",
       "3              Europe  \n",
       "4       North America  \n",
       "...               ...  \n",
       "597897            NaN  \n",
       "597898            NaN  \n",
       "597899            NaN  \n",
       "597900            NaN  \n",
       "597901            NaN  \n",
       "\n",
       "[581877 rows x 6 columns]"
      ]
     },
     "execution_count": 12,
     "metadata": {},
     "output_type": "execute_result"
    }
   ],
   "source": [
    "#Removing all potential duplicates in our read data frame\n",
    "xx.drop_duplicates()"
   ]
  },
  {
   "cell_type": "markdown",
   "metadata": {},
   "source": [
    "## First time readers"
   ]
  },
  {
   "cell_type": "code",
   "execution_count": 13,
   "metadata": {},
   "outputs": [
    {
     "data": {
      "text/html": [
       "<div>\n",
       "<style scoped>\n",
       "    .dataframe tbody tr th:only-of-type {\n",
       "        vertical-align: middle;\n",
       "    }\n",
       "\n",
       "    .dataframe tbody tr th {\n",
       "        vertical-align: top;\n",
       "    }\n",
       "\n",
       "    .dataframe thead th {\n",
       "        text-align: right;\n",
       "    }\n",
       "</style>\n",
       "<table border=\"1\" class=\"dataframe\">\n",
       "  <thead>\n",
       "    <tr style=\"text-align: right;\">\n",
       "      <th></th>\n",
       "      <th>day_time</th>\n",
       "      <th>event_type</th>\n",
       "      <th>country</th>\n",
       "      <th>user_id</th>\n",
       "      <th>source</th>\n",
       "      <th>topic</th>\n",
       "    </tr>\n",
       "  </thead>\n",
       "  <tbody>\n",
       "    <tr>\n",
       "      <th>0</th>\n",
       "      <td>2018-01-01 00:01:01</td>\n",
       "      <td>read</td>\n",
       "      <td>country_7</td>\n",
       "      <td>2.458151e+09</td>\n",
       "      <td>SEO</td>\n",
       "      <td>North America</td>\n",
       "    </tr>\n",
       "    <tr>\n",
       "      <th>1</th>\n",
       "      <td>2018-01-01 00:03:20</td>\n",
       "      <td>read</td>\n",
       "      <td>country_7</td>\n",
       "      <td>2.458151e+09</td>\n",
       "      <td>SEO</td>\n",
       "      <td>South America</td>\n",
       "    </tr>\n",
       "    <tr>\n",
       "      <th>2</th>\n",
       "      <td>2018-01-01 00:04:01</td>\n",
       "      <td>read</td>\n",
       "      <td>country_7</td>\n",
       "      <td>2.458151e+09</td>\n",
       "      <td>AdWords</td>\n",
       "      <td>Africa</td>\n",
       "    </tr>\n",
       "    <tr>\n",
       "      <th>3</th>\n",
       "      <td>2018-01-01 00:04:02</td>\n",
       "      <td>read</td>\n",
       "      <td>country_7</td>\n",
       "      <td>2.458151e+09</td>\n",
       "      <td>AdWords</td>\n",
       "      <td>Europe</td>\n",
       "    </tr>\n",
       "    <tr>\n",
       "      <th>4</th>\n",
       "      <td>2018-01-01 00:05:03</td>\n",
       "      <td>read</td>\n",
       "      <td>country_8</td>\n",
       "      <td>2.458151e+09</td>\n",
       "      <td>Reddit</td>\n",
       "      <td>North America</td>\n",
       "    </tr>\n",
       "  </tbody>\n",
       "</table>\n",
       "</div>"
      ],
      "text/plain": [
       "             day_time event_type    country       user_id   source  \\\n",
       "0 2018-01-01 00:01:01       read  country_7  2.458151e+09      SEO   \n",
       "1 2018-01-01 00:03:20       read  country_7  2.458151e+09      SEO   \n",
       "2 2018-01-01 00:04:01       read  country_7  2.458151e+09  AdWords   \n",
       "3 2018-01-01 00:04:02       read  country_7  2.458151e+09  AdWords   \n",
       "4 2018-01-01 00:05:03       read  country_8  2.458151e+09   Reddit   \n",
       "\n",
       "           topic  \n",
       "0  North America  \n",
       "1  South America  \n",
       "2         Africa  \n",
       "3         Europe  \n",
       "4  North America  "
      ]
     },
     "execution_count": 13,
     "metadata": {},
     "output_type": "execute_result"
    }
   ],
   "source": [
    "read_1_t= xx[(xx['source'].isin(['Reddit', 'AdWords', 'SEO'])) & (xx['topic'].isin(['Africa', 'Europe', 'South America', 'North America', 'Australia', 'Asia']))]\n",
    "read_1_t.head()"
   ]
  },
  {
   "cell_type": "code",
   "execution_count": 14,
   "metadata": {},
   "outputs": [
    {
     "data": {
      "text/plain": [
       "(210023, 6)"
      ]
     },
     "execution_count": 14,
     "metadata": {},
     "output_type": "execute_result"
    }
   ],
   "source": [
    "read_1_t.shape"
   ]
  },
  {
   "cell_type": "code",
   "execution_count": 15,
   "metadata": {},
   "outputs": [
    {
     "name": "stdout",
     "output_type": "stream",
     "text": [
      "<class 'pandas.core.frame.DataFrame'>\n",
      "Int64Index: 210023 entries, 0 to 597769\n",
      "Data columns (total 6 columns):\n",
      " #   Column      Non-Null Count   Dtype         \n",
      "---  ------      --------------   -----         \n",
      " 0   day_time    210023 non-null  datetime64[ns]\n",
      " 1   event_type  210023 non-null  object        \n",
      " 2   country     210023 non-null  object        \n",
      " 3   user_id     210023 non-null  float64       \n",
      " 4   source      210023 non-null  object        \n",
      " 5   topic       210023 non-null  object        \n",
      "dtypes: datetime64[ns](1), float64(1), object(4)\n",
      "memory usage: 11.2+ MB\n"
     ]
    }
   ],
   "source": [
    "read_1_t.info()"
   ]
  },
  {
   "cell_type": "code",
   "execution_count": 16,
   "metadata": {},
   "outputs": [
    {
     "data": {
      "text/plain": [
       "Text(0.5, 1.0, 'Country')"
      ]
     },
     "execution_count": 16,
     "metadata": {},
     "output_type": "execute_result"
    },
    {
     "data": {
      "image/png": "[encoded data removed]",
      "text/plain": [
       "<Figure size 432x288 with 1 Axes>"
      ]
     },
     "metadata": {
      "needs_background": "light"
     },
     "output_type": "display_data"
    }
   ],
   "source": [
    "#Highlighting the peopel who read them aterials from different countries\n",
    "count_types1= read_1_t['country'].value_counts()\n",
    "(count_types1/read_1_t.shape[0]).plot(kind=\"bar\")\n",
    "plt.title(\"Country\")"
   ]
  },
  {
   "cell_type": "markdown",
   "metadata": {},
   "source": [
    "It sounds that peopel from country 7 and 2 come to his weblog for the first time more than others"
   ]
  },
  {
   "cell_type": "code",
   "execution_count": 17,
   "metadata": {},
   "outputs": [
    {
     "data": {
      "text/plain": [
       "Text(0.5, 1.0, 'topic')"
      ]
     },
     "execution_count": 17,
     "metadata": {},
     "output_type": "execute_result"
    },
    {
     "data": {
      "image/png": "[encoded data removed]",
      "text/plain": [
       "<Figure size 432x288 with 1 Axes>"
      ]
     },
     "metadata": {
      "needs_background": "light"
     },
     "output_type": "display_data"
    }
   ],
   "source": [
    "#Highlighting the topic that these pople read\n",
    "topic_types1= read_1_t['topic'].value_counts()\n",
    "(topic_types1/read_1_t.shape[0]).plot(kind=\"bar\")\n",
    "plt.title(\"topic\")"
   ]
  },
  {
   "cell_type": "code",
   "execution_count": 18,
   "metadata": {},
   "outputs": [
    {
     "data": {
      "text/plain": [
       "Text(0.5, 1.0, 'source')"
      ]
     },
     "execution_count": 18,
     "metadata": {},
     "output_type": "execute_result"
    },
    {
     "data": {
      "image/png": "[encoded data removed]",
      "text/plain": [
       "<Figure size 432x288 with 1 Axes>"
      ]
     },
     "metadata": {
      "needs_background": "light"
     },
     "output_type": "display_data"
    }
   ],
   "source": [
    "#Highlighting the sources that these pople read\n",
    "source_types1= read_1_t['source'].value_counts()\n",
    "(source_types1/read_1_t.shape[0]).plot(kind=\"bar\")\n",
    "plt.title(\"source\")"
   ]
  },
  {
   "cell_type": "markdown",
   "metadata": {},
   "source": [
    "## Returning readers"
   ]
  },
  {
   "cell_type": "code",
   "execution_count": 19,
   "metadata": {},
   "outputs": [
    {
     "data": {
      "text/html": [
       "<div>\n",
       "<style scoped>\n",
       "    .dataframe tbody tr th:only-of-type {\n",
       "        vertical-align: middle;\n",
       "    }\n",
       "\n",
       "    .dataframe tbody tr th {\n",
       "        vertical-align: top;\n",
       "    }\n",
       "\n",
       "    .dataframe thead th {\n",
       "        text-align: right;\n",
       "    }\n",
       "</style>\n",
       "<table border=\"1\" class=\"dataframe\">\n",
       "  <thead>\n",
       "    <tr style=\"text-align: right;\">\n",
       "      <th></th>\n",
       "      <th>day_time</th>\n",
       "      <th>event_type</th>\n",
       "      <th>country</th>\n",
       "      <th>user_id</th>\n",
       "      <th>source</th>\n",
       "      <th>topic</th>\n",
       "    </tr>\n",
       "  </thead>\n",
       "  <tbody>\n",
       "    <tr>\n",
       "      <th>170</th>\n",
       "      <td>2018-01-01 02:20:18</td>\n",
       "      <td>read</td>\n",
       "      <td>country_5</td>\n",
       "      <td>2.458151e+09</td>\n",
       "      <td>North America</td>\n",
       "      <td>NaN</td>\n",
       "    </tr>\n",
       "    <tr>\n",
       "      <th>211</th>\n",
       "      <td>2018-01-01 02:53:39</td>\n",
       "      <td>read</td>\n",
       "      <td>country_4</td>\n",
       "      <td>2.458151e+09</td>\n",
       "      <td>Asia</td>\n",
       "      <td>NaN</td>\n",
       "    </tr>\n",
       "    <tr>\n",
       "      <th>278</th>\n",
       "      <td>2018-01-01 03:34:22</td>\n",
       "      <td>read</td>\n",
       "      <td>country_4</td>\n",
       "      <td>2.458152e+09</td>\n",
       "      <td>Africa</td>\n",
       "      <td>NaN</td>\n",
       "    </tr>\n",
       "    <tr>\n",
       "      <th>281</th>\n",
       "      <td>2018-01-01 03:36:18</td>\n",
       "      <td>read</td>\n",
       "      <td>country_5</td>\n",
       "      <td>2.458151e+09</td>\n",
       "      <td>Asia</td>\n",
       "      <td>NaN</td>\n",
       "    </tr>\n",
       "    <tr>\n",
       "      <th>286</th>\n",
       "      <td>2018-01-01 03:40:42</td>\n",
       "      <td>read</td>\n",
       "      <td>country_5</td>\n",
       "      <td>2.458151e+09</td>\n",
       "      <td>South America</td>\n",
       "      <td>NaN</td>\n",
       "    </tr>\n",
       "  </tbody>\n",
       "</table>\n",
       "</div>"
      ],
      "text/plain": [
       "               day_time event_type    country       user_id         source  \\\n",
       "170 2018-01-01 02:20:18       read  country_5  2.458151e+09  North America   \n",
       "211 2018-01-01 02:53:39       read  country_4  2.458151e+09           Asia   \n",
       "278 2018-01-01 03:34:22       read  country_4  2.458152e+09         Africa   \n",
       "281 2018-01-01 03:36:18       read  country_5  2.458151e+09           Asia   \n",
       "286 2018-01-01 03:40:42       read  country_5  2.458151e+09  South America   \n",
       "\n",
       "    topic  \n",
       "170   NaN  \n",
       "211   NaN  \n",
       "278   NaN  \n",
       "281   NaN  \n",
       "286   NaN  "
      ]
     },
     "execution_count": 19,
     "metadata": {},
     "output_type": "execute_result"
    }
   ],
   "source": [
    "read_2_t= xx[(xx['source'].isin(['Africa', 'Europe', 'South America', 'North America', 'Australia', 'Asia']))]\n",
    "read_2_t.head()\n"
   ]
  },
  {
   "cell_type": "code",
   "execution_count": 20,
   "metadata": {},
   "outputs": [
    {
     "data": {
      "text/plain": [
       "(371854, 6)"
      ]
     },
     "execution_count": 20,
     "metadata": {},
     "output_type": "execute_result"
    }
   ],
   "source": [
    "read_2_t.shape"
   ]
  },
  {
   "cell_type": "code",
   "execution_count": 21,
   "metadata": {},
   "outputs": [
    {
     "name": "stdout",
     "output_type": "stream",
     "text": [
      "<class 'pandas.core.frame.DataFrame'>\n",
      "Int64Index: 371854 entries, 170 to 597901\n",
      "Data columns (total 6 columns):\n",
      " #   Column      Non-Null Count   Dtype         \n",
      "---  ------      --------------   -----         \n",
      " 0   day_time    371854 non-null  datetime64[ns]\n",
      " 1   event_type  371854 non-null  object        \n",
      " 2   country     371854 non-null  object        \n",
      " 3   user_id     371854 non-null  float64       \n",
      " 4   source      371854 non-null  object        \n",
      " 5   topic       0 non-null       object        \n",
      "dtypes: datetime64[ns](1), float64(1), object(4)\n",
      "memory usage: 19.9+ MB\n"
     ]
    }
   ],
   "source": [
    "read_2_t.info()"
   ]
  },
  {
   "cell_type": "markdown",
   "metadata": {},
   "source": [
    "This Shows that among the 581877 peopel who read Dilans' material for the first time, 321854  returned to read his material more! "
   ]
  },
  {
   "cell_type": "code",
   "execution_count": 22,
   "metadata": {},
   "outputs": [
    {
     "data": {
      "text/plain": [
       "day_time           0\n",
       "event_type         0\n",
       "country            0\n",
       "user_id            0\n",
       "source             0\n",
       "topic         371854\n",
       "dtype: int64"
      ]
     },
     "execution_count": 22,
     "metadata": {},
     "output_type": "execute_result"
    }
   ],
   "source": [
    "#Checking to see whether the is any null value\n",
    "read_2_t.isnull().sum()"
   ]
  },
  {
   "cell_type": "code",
   "execution_count": 23,
   "metadata": {},
   "outputs": [
    {
     "data": {
      "text/html": [
       "<div>\n",
       "<style scoped>\n",
       "    .dataframe tbody tr th:only-of-type {\n",
       "        vertical-align: middle;\n",
       "    }\n",
       "\n",
       "    .dataframe tbody tr th {\n",
       "        vertical-align: top;\n",
       "    }\n",
       "\n",
       "    .dataframe thead th {\n",
       "        text-align: right;\n",
       "    }\n",
       "</style>\n",
       "<table border=\"1\" class=\"dataframe\">\n",
       "  <thead>\n",
       "    <tr style=\"text-align: right;\">\n",
       "      <th></th>\n",
       "      <th>day_time</th>\n",
       "      <th>event_type</th>\n",
       "      <th>country</th>\n",
       "      <th>user_id</th>\n",
       "      <th>source</th>\n",
       "    </tr>\n",
       "  </thead>\n",
       "  <tbody>\n",
       "    <tr>\n",
       "      <th>170</th>\n",
       "      <td>2018-01-01 02:20:18</td>\n",
       "      <td>read</td>\n",
       "      <td>country_5</td>\n",
       "      <td>2.458151e+09</td>\n",
       "      <td>North America</td>\n",
       "    </tr>\n",
       "    <tr>\n",
       "      <th>211</th>\n",
       "      <td>2018-01-01 02:53:39</td>\n",
       "      <td>read</td>\n",
       "      <td>country_4</td>\n",
       "      <td>2.458151e+09</td>\n",
       "      <td>Asia</td>\n",
       "    </tr>\n",
       "    <tr>\n",
       "      <th>278</th>\n",
       "      <td>2018-01-01 03:34:22</td>\n",
       "      <td>read</td>\n",
       "      <td>country_4</td>\n",
       "      <td>2.458152e+09</td>\n",
       "      <td>Africa</td>\n",
       "    </tr>\n",
       "    <tr>\n",
       "      <th>281</th>\n",
       "      <td>2018-01-01 03:36:18</td>\n",
       "      <td>read</td>\n",
       "      <td>country_5</td>\n",
       "      <td>2.458151e+09</td>\n",
       "      <td>Asia</td>\n",
       "    </tr>\n",
       "    <tr>\n",
       "      <th>286</th>\n",
       "      <td>2018-01-01 03:40:42</td>\n",
       "      <td>read</td>\n",
       "      <td>country_5</td>\n",
       "      <td>2.458151e+09</td>\n",
       "      <td>South America</td>\n",
       "    </tr>\n",
       "  </tbody>\n",
       "</table>\n",
       "</div>"
      ],
      "text/plain": [
       "               day_time event_type    country       user_id         source\n",
       "170 2018-01-01 02:20:18       read  country_5  2.458151e+09  North America\n",
       "211 2018-01-01 02:53:39       read  country_4  2.458151e+09           Asia\n",
       "278 2018-01-01 03:34:22       read  country_4  2.458152e+09         Africa\n",
       "281 2018-01-01 03:36:18       read  country_5  2.458151e+09           Asia\n",
       "286 2018-01-01 03:40:42       read  country_5  2.458151e+09  South America"
      ]
     },
     "execution_count": 23,
     "metadata": {},
     "output_type": "execute_result"
    }
   ],
   "source": [
    "read_2_t= read_2_t.drop('topic',axis=1)\n",
    "read_2_t.head()"
   ]
  },
  {
   "cell_type": "code",
   "execution_count": 24,
   "metadata": {},
   "outputs": [
    {
     "data": {
      "text/html": [
       "<div>\n",
       "<style scoped>\n",
       "    .dataframe tbody tr th:only-of-type {\n",
       "        vertical-align: middle;\n",
       "    }\n",
       "\n",
       "    .dataframe tbody tr th {\n",
       "        vertical-align: top;\n",
       "    }\n",
       "\n",
       "    .dataframe thead th {\n",
       "        text-align: right;\n",
       "    }\n",
       "</style>\n",
       "<table border=\"1\" class=\"dataframe\">\n",
       "  <thead>\n",
       "    <tr style=\"text-align: right;\">\n",
       "      <th></th>\n",
       "      <th>day_time</th>\n",
       "      <th>event_type</th>\n",
       "      <th>country</th>\n",
       "      <th>user_id</th>\n",
       "      <th>topic</th>\n",
       "    </tr>\n",
       "  </thead>\n",
       "  <tbody>\n",
       "    <tr>\n",
       "      <th>170</th>\n",
       "      <td>2018-01-01 02:20:18</td>\n",
       "      <td>read</td>\n",
       "      <td>country_5</td>\n",
       "      <td>2.458151e+09</td>\n",
       "      <td>North America</td>\n",
       "    </tr>\n",
       "    <tr>\n",
       "      <th>211</th>\n",
       "      <td>2018-01-01 02:53:39</td>\n",
       "      <td>read</td>\n",
       "      <td>country_4</td>\n",
       "      <td>2.458151e+09</td>\n",
       "      <td>Asia</td>\n",
       "    </tr>\n",
       "    <tr>\n",
       "      <th>278</th>\n",
       "      <td>2018-01-01 03:34:22</td>\n",
       "      <td>read</td>\n",
       "      <td>country_4</td>\n",
       "      <td>2.458152e+09</td>\n",
       "      <td>Africa</td>\n",
       "    </tr>\n",
       "    <tr>\n",
       "      <th>281</th>\n",
       "      <td>2018-01-01 03:36:18</td>\n",
       "      <td>read</td>\n",
       "      <td>country_5</td>\n",
       "      <td>2.458151e+09</td>\n",
       "      <td>Asia</td>\n",
       "    </tr>\n",
       "    <tr>\n",
       "      <th>286</th>\n",
       "      <td>2018-01-01 03:40:42</td>\n",
       "      <td>read</td>\n",
       "      <td>country_5</td>\n",
       "      <td>2.458151e+09</td>\n",
       "      <td>South America</td>\n",
       "    </tr>\n",
       "  </tbody>\n",
       "</table>\n",
       "</div>"
      ],
      "text/plain": [
       "               day_time event_type    country       user_id          topic\n",
       "170 2018-01-01 02:20:18       read  country_5  2.458151e+09  North America\n",
       "211 2018-01-01 02:53:39       read  country_4  2.458151e+09           Asia\n",
       "278 2018-01-01 03:34:22       read  country_4  2.458152e+09         Africa\n",
       "281 2018-01-01 03:36:18       read  country_5  2.458151e+09           Asia\n",
       "286 2018-01-01 03:40:42       read  country_5  2.458151e+09  South America"
      ]
     },
     "execution_count": 24,
     "metadata": {},
     "output_type": "execute_result"
    }
   ],
   "source": [
    "read_2_t.columns = ['day_time', 'event_type','country','user_id','topic']\n",
    "#read_i_2.rename(columns={\"day_time\": \"day_time\", \"event_type\": \"event_type\",\"country\": \"country\", \"user_id\": \"user_id\" ,  \"source\": \"topic\" })\n",
    "read_2_t.head()"
   ]
  },
  {
   "cell_type": "code",
   "execution_count": 25,
   "metadata": {},
   "outputs": [
    {
     "data": {
      "text/plain": [
       "day_time      0\n",
       "event_type    0\n",
       "country       0\n",
       "user_id       0\n",
       "topic         0\n",
       "dtype: int64"
      ]
     },
     "execution_count": 25,
     "metadata": {},
     "output_type": "execute_result"
    }
   ],
   "source": [
    "#Checking to see whether the is any null value\n",
    "\n",
    "read_2_t.isnull().sum()"
   ]
  },
  {
   "cell_type": "code",
   "execution_count": 26,
   "metadata": {},
   "outputs": [
    {
     "data": {
      "text/plain": [
       "Text(0.5, 1.0, 'topic')"
      ]
     },
     "execution_count": 26,
     "metadata": {},
     "output_type": "execute_result"
    },
    {
     "data": {
      "image/png": "[encoded data removed]",
      "text/plain": [
       "<Figure size 432x288 with 1 Axes>"
      ]
     },
     "metadata": {
      "needs_background": "light"
     },
     "output_type": "display_data"
    }
   ],
   "source": [
    "#Which topic is read by the returning readers\n",
    "topic_types2= read_2_t['topic'].value_counts()\n",
    "(topic_types2/read_2_t.shape[0]).plot(kind=\"bar\")\n",
    "plt.title(\"topic\")"
   ]
  },
  {
   "cell_type": "code",
   "execution_count": 27,
   "metadata": {},
   "outputs": [
    {
     "data": {
      "text/plain": [
       "Text(0.5, 1.0, 'country')"
      ]
     },
     "execution_count": 27,
     "metadata": {},
     "output_type": "execute_result"
    },
    {
     "data": {
      "image/png": "[encoded data removed]",
      "text/plain": [
       "<Figure size 432x288 with 1 Axes>"
      ]
     },
     "metadata": {
      "needs_background": "light"
     },
     "output_type": "display_data"
    }
   ],
   "source": [
    "#Highlighting the peopel who read the materials from different countries\n",
    "country_types2= read_2_t['country'].value_counts()\n",
    "(country_types2/read_2_t.shape[0]).plot(kind=\"bar\")\n",
    "plt.title(\"country\")"
   ]
  },
  {
   "cell_type": "code",
   "execution_count": 28,
   "metadata": {},
   "outputs": [],
   "source": [
    "df_read= pd.concat([read_1_t, read_2_t], ignore_index=False)"
   ]
  },
  {
   "cell_type": "code",
   "execution_count": 29,
   "metadata": {},
   "outputs": [
    {
     "data": {
      "text/html": [
       "<div>\n",
       "<style scoped>\n",
       "    .dataframe tbody tr th:only-of-type {\n",
       "        vertical-align: middle;\n",
       "    }\n",
       "\n",
       "    .dataframe tbody tr th {\n",
       "        vertical-align: top;\n",
       "    }\n",
       "\n",
       "    .dataframe thead th {\n",
       "        text-align: right;\n",
       "    }\n",
       "</style>\n",
       "<table border=\"1\" class=\"dataframe\">\n",
       "  <thead>\n",
       "    <tr style=\"text-align: right;\">\n",
       "      <th></th>\n",
       "      <th>day_time</th>\n",
       "      <th>event_type</th>\n",
       "      <th>country</th>\n",
       "      <th>user_id</th>\n",
       "      <th>source</th>\n",
       "      <th>topic</th>\n",
       "    </tr>\n",
       "  </thead>\n",
       "  <tbody>\n",
       "    <tr>\n",
       "      <th>0</th>\n",
       "      <td>2018-01-01 00:01:01</td>\n",
       "      <td>read</td>\n",
       "      <td>country_7</td>\n",
       "      <td>2.458151e+09</td>\n",
       "      <td>SEO</td>\n",
       "      <td>North America</td>\n",
       "    </tr>\n",
       "    <tr>\n",
       "      <th>1</th>\n",
       "      <td>2018-01-01 00:03:20</td>\n",
       "      <td>read</td>\n",
       "      <td>country_7</td>\n",
       "      <td>2.458151e+09</td>\n",
       "      <td>SEO</td>\n",
       "      <td>South America</td>\n",
       "    </tr>\n",
       "    <tr>\n",
       "      <th>2</th>\n",
       "      <td>2018-01-01 00:04:01</td>\n",
       "      <td>read</td>\n",
       "      <td>country_7</td>\n",
       "      <td>2.458151e+09</td>\n",
       "      <td>AdWords</td>\n",
       "      <td>Africa</td>\n",
       "    </tr>\n",
       "    <tr>\n",
       "      <th>3</th>\n",
       "      <td>2018-01-01 00:04:02</td>\n",
       "      <td>read</td>\n",
       "      <td>country_7</td>\n",
       "      <td>2.458151e+09</td>\n",
       "      <td>AdWords</td>\n",
       "      <td>Europe</td>\n",
       "    </tr>\n",
       "    <tr>\n",
       "      <th>4</th>\n",
       "      <td>2018-01-01 00:05:03</td>\n",
       "      <td>read</td>\n",
       "      <td>country_8</td>\n",
       "      <td>2.458151e+09</td>\n",
       "      <td>Reddit</td>\n",
       "      <td>North America</td>\n",
       "    </tr>\n",
       "  </tbody>\n",
       "</table>\n",
       "</div>"
      ],
      "text/plain": [
       "             day_time event_type    country       user_id   source  \\\n",
       "0 2018-01-01 00:01:01       read  country_7  2.458151e+09      SEO   \n",
       "1 2018-01-01 00:03:20       read  country_7  2.458151e+09      SEO   \n",
       "2 2018-01-01 00:04:01       read  country_7  2.458151e+09  AdWords   \n",
       "3 2018-01-01 00:04:02       read  country_7  2.458151e+09  AdWords   \n",
       "4 2018-01-01 00:05:03       read  country_8  2.458151e+09   Reddit   \n",
       "\n",
       "           topic  \n",
       "0  North America  \n",
       "1  South America  \n",
       "2         Africa  \n",
       "3         Europe  \n",
       "4  North America  "
      ]
     },
     "execution_count": 29,
     "metadata": {},
     "output_type": "execute_result"
    }
   ],
   "source": [
    "df_read.head()"
   ]
  },
  {
   "cell_type": "code",
   "execution_count": 30,
   "metadata": {},
   "outputs": [
    {
     "data": {
      "text/plain": [
       "Text(0.5, 1.0, 'country')"
      ]
     },
     "execution_count": 30,
     "metadata": {},
     "output_type": "execute_result"
    },
    {
     "data": {
      "image/png": "[encoded data removed]",
      "text/plain": [
       "<Figure size 432x288 with 1 Axes>"
      ]
     },
     "metadata": {
      "needs_background": "light"
     },
     "output_type": "display_data"
    }
   ],
   "source": [
    "#Highlighting the peopel who read the materials from different countries\n",
    "country_types3= df_read['country'].value_counts()\n",
    "(country_types3/df_read.shape[0]).plot(kind=\"bar\")\n",
    "plt.title(\"country\")"
   ]
  },
  {
   "cell_type": "code",
   "execution_count": 31,
   "metadata": {},
   "outputs": [
    {
     "data": {
      "image/png": "[encoded data removed]",
      "text/plain": [
       "<Figure size 432x288 with 1 Axes>"
      ]
     },
     "metadata": {
      "needs_background": "light"
     },
     "output_type": "display_data"
    }
   ],
   "source": [
    "#Finding the situation of the vistors\n",
    "\n",
    "users_type=[\"Subscribers\",\"Buyers\",\"Regular Readers\", \"First Readers\" ]\n",
    "users_count=[7618,8407, 321854,581877]\n",
    "\n",
    "fig, ax = plt.subplots()\n",
    "#print(medals.head())\n",
    "# Plot a bar-chart of gold medals as a function of country\n",
    "ax.barh(users_type,users_count)\n",
    "\n",
    "# Set the x-axis tick labels to the country names\n",
    "#ax.set_xticklabels(medals.index, rotation=90)\n",
    "\n",
    "# Set the y-axis label\n",
    "ax.set_ylabel(\"Number of users\")\n",
    "\n",
    "\n",
    "plt.show()"
   ]
  },
  {
   "cell_type": "markdown",
   "metadata": {},
   "source": [
    "The above graph indicates the overal number of people who use his weblog in order. As it can seen, more than 500000 people have already visited his weblog;over 350000 peple came back after their first visit, around 8000 people have already bought from his website and around 7000 people subscribe to his blog!"
   ]
  },
  {
   "cell_type": "markdown",
   "metadata": {},
   "source": [
    "## Subscribers"
   ]
  },
  {
   "cell_type": "code",
   "execution_count": 32,
   "metadata": {},
   "outputs": [],
   "source": [
    "df_subscribe=raw_data[raw_data.event_type== 'subscribe']"
   ]
  },
  {
   "cell_type": "code",
   "execution_count": 33,
   "metadata": {},
   "outputs": [],
   "source": [
    "df_subscribe=df_subscribe.drop(['user_id','source','topic'],axis=1)"
   ]
  },
  {
   "cell_type": "code",
   "execution_count": 34,
   "metadata": {},
   "outputs": [
    {
     "data": {
      "text/html": [
       "<div>\n",
       "<style scoped>\n",
       "    .dataframe tbody tr th:only-of-type {\n",
       "        vertical-align: middle;\n",
       "    }\n",
       "\n",
       "    .dataframe tbody tr th {\n",
       "        vertical-align: top;\n",
       "    }\n",
       "\n",
       "    .dataframe thead th {\n",
       "        text-align: right;\n",
       "    }\n",
       "</style>\n",
       "<table border=\"1\" class=\"dataframe\">\n",
       "  <thead>\n",
       "    <tr style=\"text-align: right;\">\n",
       "      <th></th>\n",
       "      <th>day_time</th>\n",
       "      <th>event_type</th>\n",
       "      <th>user_id</th>\n",
       "    </tr>\n",
       "  </thead>\n",
       "  <tbody>\n",
       "    <tr>\n",
       "      <th>10</th>\n",
       "      <td>2018-01-01 00:07:41</td>\n",
       "      <td>subscribe</td>\n",
       "      <td>2458151268</td>\n",
       "    </tr>\n",
       "    <tr>\n",
       "      <th>11</th>\n",
       "      <td>2018-01-01 00:07:44</td>\n",
       "      <td>subscribe</td>\n",
       "      <td>2458151267</td>\n",
       "    </tr>\n",
       "    <tr>\n",
       "      <th>53</th>\n",
       "      <td>2018-01-01 00:40:55</td>\n",
       "      <td>subscribe</td>\n",
       "      <td>2458151309</td>\n",
       "    </tr>\n",
       "    <tr>\n",
       "      <th>101</th>\n",
       "      <td>2018-01-01 01:26:26</td>\n",
       "      <td>subscribe</td>\n",
       "      <td>2458151358</td>\n",
       "    </tr>\n",
       "    <tr>\n",
       "      <th>105</th>\n",
       "      <td>2018-01-01 01:30:39</td>\n",
       "      <td>subscribe</td>\n",
       "      <td>2458151361</td>\n",
       "    </tr>\n",
       "  </tbody>\n",
       "</table>\n",
       "</div>"
      ],
      "text/plain": [
       "               day_time event_type     user_id\n",
       "10  2018-01-01 00:07:41  subscribe  2458151268\n",
       "11  2018-01-01 00:07:44  subscribe  2458151267\n",
       "53  2018-01-01 00:40:55  subscribe  2458151309\n",
       "101 2018-01-01 01:26:26  subscribe  2458151358\n",
       "105 2018-01-01 01:30:39  subscribe  2458151361"
      ]
     },
     "execution_count": 34,
     "metadata": {},
     "output_type": "execute_result"
    }
   ],
   "source": [
    "df_subscribe.columns = ['day_time', 'event_type','user_id']\n",
    "#read_i_2.rename(columns={\"day_time\": \"day_time\", \"event_type\": \"event_type\",\"country\": \"country\", \"user_id\": \"user_id\" ,  \"source\": \"topic\" })\n",
    "df_subscribe.head()"
   ]
  },
  {
   "cell_type": "code",
   "execution_count": 35,
   "metadata": {},
   "outputs": [
    {
     "name": "stdout",
     "output_type": "stream",
     "text": [
      "<class 'pandas.core.frame.DataFrame'>\n",
      "Int64Index: 7618 entries, 10 to 597717\n",
      "Data columns (total 3 columns):\n",
      " #   Column      Non-Null Count  Dtype         \n",
      "---  ------      --------------  -----         \n",
      " 0   day_time    7618 non-null   datetime64[ns]\n",
      " 1   event_type  7618 non-null   object        \n",
      " 2   user_id     7618 non-null   object        \n",
      "dtypes: datetime64[ns](1), object(2)\n",
      "memory usage: 238.1+ KB\n"
     ]
    }
   ],
   "source": [
    "#Checking the types of the features\n",
    "df_subscribe.info()"
   ]
  },
  {
   "cell_type": "code",
   "execution_count": 36,
   "metadata": {},
   "outputs": [
    {
     "data": {
      "text/plain": [
       "day_time      datetime64[ns]\n",
       "event_type            object\n",
       "user_id              float64\n",
       "dtype: object"
      ]
     },
     "execution_count": 36,
     "metadata": {},
     "output_type": "execute_result"
    }
   ],
   "source": [
    "#Turning the userid to float\n",
    "df_subscribe['user_id'] = df_subscribe['user_id'].astype(float)\n",
    "df_subscribe.dtypes"
   ]
  },
  {
   "cell_type": "markdown",
   "metadata": {},
   "source": [
    "## Buyers"
   ]
  },
  {
   "cell_type": "code",
   "execution_count": 37,
   "metadata": {},
   "outputs": [],
   "source": [
    "df_buy= raw_data[raw_data.event_type== 'buy']"
   ]
  },
  {
   "cell_type": "code",
   "execution_count": 38,
   "metadata": {},
   "outputs": [],
   "source": [
    "df_buy=df_buy.drop(['source','topic'],axis=1)"
   ]
  },
  {
   "cell_type": "code",
   "execution_count": 39,
   "metadata": {},
   "outputs": [
    {
     "data": {
      "text/html": [
       "<div>\n",
       "<style scoped>\n",
       "    .dataframe tbody tr th:only-of-type {\n",
       "        vertical-align: middle;\n",
       "    }\n",
       "\n",
       "    .dataframe tbody tr th {\n",
       "        vertical-align: top;\n",
       "    }\n",
       "\n",
       "    .dataframe thead th {\n",
       "        text-align: right;\n",
       "    }\n",
       "</style>\n",
       "<table border=\"1\" class=\"dataframe\">\n",
       "  <thead>\n",
       "    <tr style=\"text-align: right;\">\n",
       "      <th></th>\n",
       "      <th>day_time</th>\n",
       "      <th>event_type</th>\n",
       "      <th>user_id</th>\n",
       "      <th>price</th>\n",
       "    </tr>\n",
       "  </thead>\n",
       "  <tbody>\n",
       "    <tr>\n",
       "      <th>320</th>\n",
       "      <td>2018-01-01 04:04:59</td>\n",
       "      <td>buy</td>\n",
       "      <td>2458151555</td>\n",
       "      <td>8.0</td>\n",
       "    </tr>\n",
       "    <tr>\n",
       "      <th>745</th>\n",
       "      <td>2018-01-01 09:28:00</td>\n",
       "      <td>buy</td>\n",
       "      <td>2458151933</td>\n",
       "      <td>8.0</td>\n",
       "    </tr>\n",
       "    <tr>\n",
       "      <th>1073</th>\n",
       "      <td>2018-01-01 13:23:16</td>\n",
       "      <td>buy</td>\n",
       "      <td>2458152245</td>\n",
       "      <td>8.0</td>\n",
       "    </tr>\n",
       "    <tr>\n",
       "      <th>1150</th>\n",
       "      <td>2018-01-01 14:20:43</td>\n",
       "      <td>buy</td>\n",
       "      <td>2458152315</td>\n",
       "      <td>8.0</td>\n",
       "    </tr>\n",
       "    <tr>\n",
       "      <th>1351</th>\n",
       "      <td>2018-01-01 16:56:04</td>\n",
       "      <td>buy</td>\n",
       "      <td>2458152371</td>\n",
       "      <td>8.0</td>\n",
       "    </tr>\n",
       "  </tbody>\n",
       "</table>\n",
       "</div>"
      ],
      "text/plain": [
       "                day_time event_type     user_id  price\n",
       "320  2018-01-01 04:04:59        buy  2458151555    8.0\n",
       "745  2018-01-01 09:28:00        buy  2458151933    8.0\n",
       "1073 2018-01-01 13:23:16        buy  2458152245    8.0\n",
       "1150 2018-01-01 14:20:43        buy  2458152315    8.0\n",
       "1351 2018-01-01 16:56:04        buy  2458152371    8.0"
      ]
     },
     "execution_count": 39,
     "metadata": {},
     "output_type": "execute_result"
    }
   ],
   "source": [
    "df_buy.columns = ['day_time', 'event_type','user_id','price']\n",
    "#read_i_2.rename(columns={\"day_time\": \"day_time\", \"event_type\": \"event_type\",\"country\": \"country\", \"user_id\": \"user_id\" ,  \"source\": \"topic\" })\n",
    "df_buy.head()"
   ]
  },
  {
   "cell_type": "code",
   "execution_count": 40,
   "metadata": {},
   "outputs": [
    {
     "name": "stdout",
     "output_type": "stream",
     "text": [
      "<class 'pandas.core.frame.DataFrame'>\n",
      "Int64Index: 8407 entries, 320 to 597750\n",
      "Data columns (total 4 columns):\n",
      " #   Column      Non-Null Count  Dtype         \n",
      "---  ------      --------------  -----         \n",
      " 0   day_time    8407 non-null   datetime64[ns]\n",
      " 1   event_type  8407 non-null   object        \n",
      " 2   user_id     8407 non-null   object        \n",
      " 3   price       8407 non-null   float64       \n",
      "dtypes: datetime64[ns](1), float64(1), object(2)\n",
      "memory usage: 328.4+ KB\n"
     ]
    }
   ],
   "source": [
    "#Checking the types of the features\n",
    "df_buy.info()"
   ]
  },
  {
   "cell_type": "code",
   "execution_count": 41,
   "metadata": {},
   "outputs": [
    {
     "data": {
      "text/plain": [
       "day_time      datetime64[ns]\n",
       "event_type            object\n",
       "user_id              float64\n",
       "price                float64\n",
       "dtype: object"
      ]
     },
     "execution_count": 41,
     "metadata": {},
     "output_type": "execute_result"
    }
   ],
   "source": [
    "#Turning the userid to float\n",
    "df_buy['user_id'] = df_buy['user_id'].astype(float)\n",
    "df_buy.dtypes"
   ]
  },
  {
   "cell_type": "code",
   "execution_count": 42,
   "metadata": {},
   "outputs": [
    {
     "data": {
      "text/plain": [
       "Text(0.5, 1.0, 'Price')"
      ]
     },
     "execution_count": 42,
     "metadata": {},
     "output_type": "execute_result"
    },
    {
     "data": {
      "image/png": "[encoded data removed]",
      "text/plain": [
       "<Figure size 432x288 with 1 Axes>"
      ]
     },
     "metadata": {
      "needs_background": "light"
     },
     "output_type": "display_data"
    }
   ],
   "source": [
    "#Highlighting the prices of Dilans' products\n",
    "\n",
    "price_types= df_buy['price'].value_counts()\n",
    "(price_types/df_buy.shape[0]).plot(kind=\"bar\")\n",
    "plt.title(\"Price\")"
   ]
  },
  {
   "cell_type": "markdown",
   "metadata": {},
   "source": [
    "So far we explored Dilan's data, evaluated teh number of first readers, rgular readers, subscribers and buyers. Also, we found that from which countries are the vistors, what are their sources,a nd what is the popular topics. However, since our duty is to help Dilan with investment, we need to find teh relationship between these factors and the revenue. To this end, new tables should be created: "
   ]
  },
  {
   "cell_type": "markdown",
   "metadata": {},
   "source": [
    "## The relationship between Revenue and Countries"
   ]
  },
  {
   "cell_type": "markdown",
   "metadata": {},
   "source": [
    "### Revenue by country\n",
    "\n",
    "The revenue by country will be calculated as follows. We'll generate a table listing the `user_id`, the `country`s that each user read, and the revenue generated by that user. The revenue will be divided by the number of countries of each user , and then added up by number of countries."
   ]
  },
  {
   "cell_type": "code",
   "execution_count": 43,
   "metadata": {},
   "outputs": [],
   "source": [
    "#Sumarizing the first readers' table\n",
    "read_1= read_1_t[['user_id','country']]"
   ]
  },
  {
   "cell_type": "code",
   "execution_count": 44,
   "metadata": {},
   "outputs": [
    {
     "data": {
      "text/html": [
       "<div>\n",
       "<style scoped>\n",
       "    .dataframe tbody tr th:only-of-type {\n",
       "        vertical-align: middle;\n",
       "    }\n",
       "\n",
       "    .dataframe tbody tr th {\n",
       "        vertical-align: top;\n",
       "    }\n",
       "\n",
       "    .dataframe thead th {\n",
       "        text-align: right;\n",
       "    }\n",
       "</style>\n",
       "<table border=\"1\" class=\"dataframe\">\n",
       "  <thead>\n",
       "    <tr style=\"text-align: right;\">\n",
       "      <th></th>\n",
       "      <th>user_id</th>\n",
       "      <th>country</th>\n",
       "    </tr>\n",
       "  </thead>\n",
       "  <tbody>\n",
       "    <tr>\n",
       "      <th>0</th>\n",
       "      <td>2.458151e+09</td>\n",
       "      <td>country_7</td>\n",
       "    </tr>\n",
       "    <tr>\n",
       "      <th>1</th>\n",
       "      <td>2.458151e+09</td>\n",
       "      <td>country_7</td>\n",
       "    </tr>\n",
       "    <tr>\n",
       "      <th>2</th>\n",
       "      <td>2.458151e+09</td>\n",
       "      <td>country_7</td>\n",
       "    </tr>\n",
       "    <tr>\n",
       "      <th>3</th>\n",
       "      <td>2.458151e+09</td>\n",
       "      <td>country_7</td>\n",
       "    </tr>\n",
       "    <tr>\n",
       "      <th>4</th>\n",
       "      <td>2.458151e+09</td>\n",
       "      <td>country_8</td>\n",
       "    </tr>\n",
       "  </tbody>\n",
       "</table>\n",
       "</div>"
      ],
      "text/plain": [
       "        user_id    country\n",
       "0  2.458151e+09  country_7\n",
       "1  2.458151e+09  country_7\n",
       "2  2.458151e+09  country_7\n",
       "3  2.458151e+09  country_7\n",
       "4  2.458151e+09  country_8"
      ]
     },
     "execution_count": 44,
     "metadata": {},
     "output_type": "execute_result"
    }
   ],
   "source": [
    "read_1.head()"
   ]
  },
  {
   "cell_type": "code",
   "execution_count": 45,
   "metadata": {},
   "outputs": [],
   "source": [
    "#Sumarizing the regular readers' table\n",
    "read_2= read_2_t[['user_id','country']]"
   ]
  },
  {
   "cell_type": "code",
   "execution_count": 46,
   "metadata": {},
   "outputs": [
    {
     "data": {
      "text/html": [
       "<div>\n",
       "<style scoped>\n",
       "    .dataframe tbody tr th:only-of-type {\n",
       "        vertical-align: middle;\n",
       "    }\n",
       "\n",
       "    .dataframe tbody tr th {\n",
       "        vertical-align: top;\n",
       "    }\n",
       "\n",
       "    .dataframe thead th {\n",
       "        text-align: right;\n",
       "    }\n",
       "</style>\n",
       "<table border=\"1\" class=\"dataframe\">\n",
       "  <thead>\n",
       "    <tr style=\"text-align: right;\">\n",
       "      <th></th>\n",
       "      <th>user_id</th>\n",
       "      <th>country</th>\n",
       "    </tr>\n",
       "  </thead>\n",
       "  <tbody>\n",
       "    <tr>\n",
       "      <th>170</th>\n",
       "      <td>2.458151e+09</td>\n",
       "      <td>country_5</td>\n",
       "    </tr>\n",
       "    <tr>\n",
       "      <th>211</th>\n",
       "      <td>2.458151e+09</td>\n",
       "      <td>country_4</td>\n",
       "    </tr>\n",
       "    <tr>\n",
       "      <th>278</th>\n",
       "      <td>2.458152e+09</td>\n",
       "      <td>country_4</td>\n",
       "    </tr>\n",
       "    <tr>\n",
       "      <th>281</th>\n",
       "      <td>2.458151e+09</td>\n",
       "      <td>country_5</td>\n",
       "    </tr>\n",
       "    <tr>\n",
       "      <th>286</th>\n",
       "      <td>2.458151e+09</td>\n",
       "      <td>country_5</td>\n",
       "    </tr>\n",
       "  </tbody>\n",
       "</table>\n",
       "</div>"
      ],
      "text/plain": [
       "          user_id    country\n",
       "170  2.458151e+09  country_5\n",
       "211  2.458151e+09  country_4\n",
       "278  2.458152e+09  country_4\n",
       "281  2.458151e+09  country_5\n",
       "286  2.458151e+09  country_5"
      ]
     },
     "execution_count": 46,
     "metadata": {},
     "output_type": "execute_result"
    }
   ],
   "source": [
    "read_2.head()"
   ]
  },
  {
   "cell_type": "code",
   "execution_count": 47,
   "metadata": {},
   "outputs": [],
   "source": [
    "#Concatinating the two readers table\n",
    "read_1_2= pd.concat([read_1, read_2], ignore_index=False)"
   ]
  },
  {
   "cell_type": "code",
   "execution_count": 48,
   "metadata": {},
   "outputs": [
    {
     "data": {
      "text/html": [
       "<div>\n",
       "<style scoped>\n",
       "    .dataframe tbody tr th:only-of-type {\n",
       "        vertical-align: middle;\n",
       "    }\n",
       "\n",
       "    .dataframe tbody tr th {\n",
       "        vertical-align: top;\n",
       "    }\n",
       "\n",
       "    .dataframe thead th {\n",
       "        text-align: right;\n",
       "    }\n",
       "</style>\n",
       "<table border=\"1\" class=\"dataframe\">\n",
       "  <thead>\n",
       "    <tr style=\"text-align: right;\">\n",
       "      <th></th>\n",
       "      <th>user_id</th>\n",
       "      <th>country</th>\n",
       "    </tr>\n",
       "  </thead>\n",
       "  <tbody>\n",
       "    <tr>\n",
       "      <th>0</th>\n",
       "      <td>2.458151e+09</td>\n",
       "      <td>country_7</td>\n",
       "    </tr>\n",
       "    <tr>\n",
       "      <th>1</th>\n",
       "      <td>2.458151e+09</td>\n",
       "      <td>country_7</td>\n",
       "    </tr>\n",
       "    <tr>\n",
       "      <th>2</th>\n",
       "      <td>2.458151e+09</td>\n",
       "      <td>country_7</td>\n",
       "    </tr>\n",
       "    <tr>\n",
       "      <th>3</th>\n",
       "      <td>2.458151e+09</td>\n",
       "      <td>country_7</td>\n",
       "    </tr>\n",
       "    <tr>\n",
       "      <th>4</th>\n",
       "      <td>2.458151e+09</td>\n",
       "      <td>country_8</td>\n",
       "    </tr>\n",
       "  </tbody>\n",
       "</table>\n",
       "</div>"
      ],
      "text/plain": [
       "        user_id    country\n",
       "0  2.458151e+09  country_7\n",
       "1  2.458151e+09  country_7\n",
       "2  2.458151e+09  country_7\n",
       "3  2.458151e+09  country_7\n",
       "4  2.458151e+09  country_8"
      ]
     },
     "execution_count": 48,
     "metadata": {},
     "output_type": "execute_result"
    }
   ],
   "source": [
    "read_1_2.head()"
   ]
  },
  {
   "cell_type": "code",
   "execution_count": 49,
   "metadata": {},
   "outputs": [],
   "source": [
    "#Grouping the buy table based on  the visitors user id and the summation of their purchases and call it as buy_1_2\n",
    "buy_1_2=df_buy.groupby('user_id')['price'].sum().reset_index()"
   ]
  },
  {
   "cell_type": "code",
   "execution_count": 50,
   "metadata": {},
   "outputs": [],
   "source": [
    "buy_1_2.columns=['user_id','revenue_total']"
   ]
  },
  {
   "cell_type": "code",
   "execution_count": 51,
   "metadata": {},
   "outputs": [
    {
     "data": {
      "text/html": [
       "<div>\n",
       "<style scoped>\n",
       "    .dataframe tbody tr th:only-of-type {\n",
       "        vertical-align: middle;\n",
       "    }\n",
       "\n",
       "    .dataframe tbody tr th {\n",
       "        vertical-align: top;\n",
       "    }\n",
       "\n",
       "    .dataframe thead th {\n",
       "        text-align: right;\n",
       "    }\n",
       "</style>\n",
       "<table border=\"1\" class=\"dataframe\">\n",
       "  <thead>\n",
       "    <tr style=\"text-align: right;\">\n",
       "      <th></th>\n",
       "      <th>user_id</th>\n",
       "      <th>revenue_total</th>\n",
       "    </tr>\n",
       "  </thead>\n",
       "  <tbody>\n",
       "    <tr>\n",
       "      <th>0</th>\n",
       "      <td>2.458151e+09</td>\n",
       "      <td>88.0</td>\n",
       "    </tr>\n",
       "    <tr>\n",
       "      <th>1</th>\n",
       "      <td>2.458151e+09</td>\n",
       "      <td>8.0</td>\n",
       "    </tr>\n",
       "    <tr>\n",
       "      <th>2</th>\n",
       "      <td>2.458151e+09</td>\n",
       "      <td>8.0</td>\n",
       "    </tr>\n",
       "    <tr>\n",
       "      <th>3</th>\n",
       "      <td>2.458151e+09</td>\n",
       "      <td>8.0</td>\n",
       "    </tr>\n",
       "    <tr>\n",
       "      <th>4</th>\n",
       "      <td>2.458151e+09</td>\n",
       "      <td>8.0</td>\n",
       "    </tr>\n",
       "  </tbody>\n",
       "</table>\n",
       "</div>"
      ],
      "text/plain": [
       "        user_id  revenue_total\n",
       "0  2.458151e+09           88.0\n",
       "1  2.458151e+09            8.0\n",
       "2  2.458151e+09            8.0\n",
       "3  2.458151e+09            8.0\n",
       "4  2.458151e+09            8.0"
      ]
     },
     "execution_count": 51,
     "metadata": {},
     "output_type": "execute_result"
    }
   ],
   "source": [
    "buy_1_2.head()"
   ]
  },
  {
   "cell_type": "code",
   "execution_count": 52,
   "metadata": {},
   "outputs": [],
   "source": [
    "#Grouping the main readers table based on the  visitors user id and their countries and call it as read_1_2_con\n",
    "read_1_2_con= read_1_2.groupby('user_id')['country'].count().to_frame().reset_index()"
   ]
  },
  {
   "cell_type": "code",
   "execution_count": 53,
   "metadata": {},
   "outputs": [
    {
     "data": {
      "text/html": [
       "<div>\n",
       "<style scoped>\n",
       "    .dataframe tbody tr th:only-of-type {\n",
       "        vertical-align: middle;\n",
       "    }\n",
       "\n",
       "    .dataframe tbody tr th {\n",
       "        vertical-align: top;\n",
       "    }\n",
       "\n",
       "    .dataframe thead th {\n",
       "        text-align: right;\n",
       "    }\n",
       "</style>\n",
       "<table border=\"1\" class=\"dataframe\">\n",
       "  <thead>\n",
       "    <tr style=\"text-align: right;\">\n",
       "      <th></th>\n",
       "      <th>user_id</th>\n",
       "      <th>country</th>\n",
       "    </tr>\n",
       "  </thead>\n",
       "  <tbody>\n",
       "    <tr>\n",
       "      <th>0</th>\n",
       "      <td>2.458151e+09</td>\n",
       "      <td>1</td>\n",
       "    </tr>\n",
       "    <tr>\n",
       "      <th>1</th>\n",
       "      <td>2.458151e+09</td>\n",
       "      <td>1</td>\n",
       "    </tr>\n",
       "    <tr>\n",
       "      <th>2</th>\n",
       "      <td>2.458151e+09</td>\n",
       "      <td>1</td>\n",
       "    </tr>\n",
       "    <tr>\n",
       "      <th>3</th>\n",
       "      <td>2.458151e+09</td>\n",
       "      <td>1</td>\n",
       "    </tr>\n",
       "    <tr>\n",
       "      <th>4</th>\n",
       "      <td>2.458151e+09</td>\n",
       "      <td>1</td>\n",
       "    </tr>\n",
       "  </tbody>\n",
       "</table>\n",
       "</div>"
      ],
      "text/plain": [
       "        user_id  country\n",
       "0  2.458151e+09        1\n",
       "1  2.458151e+09        1\n",
       "2  2.458151e+09        1\n",
       "3  2.458151e+09        1\n",
       "4  2.458151e+09        1"
      ]
     },
     "execution_count": 53,
     "metadata": {},
     "output_type": "execute_result"
    }
   ],
   "source": [
    "read_1_2_con.head()"
   ]
  },
  {
   "cell_type": "code",
   "execution_count": 54,
   "metadata": {},
   "outputs": [],
   "source": [
    "#read_1_2_con['country'].value_counts()"
   ]
  },
  {
   "cell_type": "code",
   "execution_count": 55,
   "metadata": {},
   "outputs": [],
   "source": [
    "read_1_2_con.columns=['user_id','read_cnt_userid']"
   ]
  },
  {
   "cell_type": "code",
   "execution_count": 56,
   "metadata": {},
   "outputs": [
    {
     "data": {
      "text/html": [
       "<div>\n",
       "<style scoped>\n",
       "    .dataframe tbody tr th:only-of-type {\n",
       "        vertical-align: middle;\n",
       "    }\n",
       "\n",
       "    .dataframe tbody tr th {\n",
       "        vertical-align: top;\n",
       "    }\n",
       "\n",
       "    .dataframe thead th {\n",
       "        text-align: right;\n",
       "    }\n",
       "</style>\n",
       "<table border=\"1\" class=\"dataframe\">\n",
       "  <thead>\n",
       "    <tr style=\"text-align: right;\">\n",
       "      <th></th>\n",
       "      <th>user_id</th>\n",
       "      <th>read_cnt_userid</th>\n",
       "    </tr>\n",
       "  </thead>\n",
       "  <tbody>\n",
       "    <tr>\n",
       "      <th>0</th>\n",
       "      <td>2.458151e+09</td>\n",
       "      <td>1</td>\n",
       "    </tr>\n",
       "    <tr>\n",
       "      <th>1</th>\n",
       "      <td>2.458151e+09</td>\n",
       "      <td>1</td>\n",
       "    </tr>\n",
       "    <tr>\n",
       "      <th>2</th>\n",
       "      <td>2.458151e+09</td>\n",
       "      <td>1</td>\n",
       "    </tr>\n",
       "    <tr>\n",
       "      <th>3</th>\n",
       "      <td>2.458151e+09</td>\n",
       "      <td>1</td>\n",
       "    </tr>\n",
       "    <tr>\n",
       "      <th>4</th>\n",
       "      <td>2.458151e+09</td>\n",
       "      <td>1</td>\n",
       "    </tr>\n",
       "  </tbody>\n",
       "</table>\n",
       "</div>"
      ],
      "text/plain": [
       "        user_id  read_cnt_userid\n",
       "0  2.458151e+09                1\n",
       "1  2.458151e+09                1\n",
       "2  2.458151e+09                1\n",
       "3  2.458151e+09                1\n",
       "4  2.458151e+09                1"
      ]
     },
     "execution_count": 56,
     "metadata": {},
     "output_type": "execute_result"
    }
   ],
   "source": [
    "read_1_2_con.head()"
   ]
  },
  {
   "cell_type": "markdown",
   "metadata": {},
   "source": [
    "Creating a table based on the visitors user ID and the amount of their purchases including counting the visitors' country"
   ]
  },
  {
   "cell_type": "code",
   "execution_count": 57,
   "metadata": {},
   "outputs": [],
   "source": [
    "#Joining the buy_1_2 table with the read_1_2_con to get the revenue_country table and call it as joining\n",
    "joining= read_1_2.merge(buy_1_2, how='inner', on='user_id' ).merge(read_1_2_con, how='inner', on='user_id' )"
   ]
  },
  {
   "cell_type": "code",
   "execution_count": 58,
   "metadata": {},
   "outputs": [
    {
     "data": {
      "text/html": [
       "<div>\n",
       "<style scoped>\n",
       "    .dataframe tbody tr th:only-of-type {\n",
       "        vertical-align: middle;\n",
       "    }\n",
       "\n",
       "    .dataframe tbody tr th {\n",
       "        vertical-align: top;\n",
       "    }\n",
       "\n",
       "    .dataframe thead th {\n",
       "        text-align: right;\n",
       "    }\n",
       "</style>\n",
       "<table border=\"1\" class=\"dataframe\">\n",
       "  <thead>\n",
       "    <tr style=\"text-align: right;\">\n",
       "      <th></th>\n",
       "      <th>user_id</th>\n",
       "      <th>country</th>\n",
       "      <th>revenue_total</th>\n",
       "      <th>read_cnt_userid</th>\n",
       "    </tr>\n",
       "  </thead>\n",
       "  <tbody>\n",
       "    <tr>\n",
       "      <th>0</th>\n",
       "      <td>2.458151e+09</td>\n",
       "      <td>country_4</td>\n",
       "      <td>88.0</td>\n",
       "      <td>12</td>\n",
       "    </tr>\n",
       "    <tr>\n",
       "      <th>1</th>\n",
       "      <td>2.458151e+09</td>\n",
       "      <td>country_4</td>\n",
       "      <td>88.0</td>\n",
       "      <td>12</td>\n",
       "    </tr>\n",
       "    <tr>\n",
       "      <th>2</th>\n",
       "      <td>2.458151e+09</td>\n",
       "      <td>country_4</td>\n",
       "      <td>88.0</td>\n",
       "      <td>12</td>\n",
       "    </tr>\n",
       "    <tr>\n",
       "      <th>3</th>\n",
       "      <td>2.458151e+09</td>\n",
       "      <td>country_4</td>\n",
       "      <td>88.0</td>\n",
       "      <td>12</td>\n",
       "    </tr>\n",
       "    <tr>\n",
       "      <th>4</th>\n",
       "      <td>2.458151e+09</td>\n",
       "      <td>country_4</td>\n",
       "      <td>88.0</td>\n",
       "      <td>12</td>\n",
       "    </tr>\n",
       "  </tbody>\n",
       "</table>\n",
       "</div>"
      ],
      "text/plain": [
       "        user_id    country  revenue_total  read_cnt_userid\n",
       "0  2.458151e+09  country_4           88.0               12\n",
       "1  2.458151e+09  country_4           88.0               12\n",
       "2  2.458151e+09  country_4           88.0               12\n",
       "3  2.458151e+09  country_4           88.0               12\n",
       "4  2.458151e+09  country_4           88.0               12"
      ]
     },
     "execution_count": 58,
     "metadata": {},
     "output_type": "execute_result"
    }
   ],
   "source": [
    "joining.head()"
   ]
  },
  {
   "cell_type": "code",
   "execution_count": 59,
   "metadata": {},
   "outputs": [],
   "source": [
    "#Finding the Dilan's revenue per article for each country\n",
    "joining['revenue_article'] = joining['revenue_total']/joining['read_cnt_userid']"
   ]
  },
  {
   "cell_type": "code",
   "execution_count": 60,
   "metadata": {},
   "outputs": [
    {
     "data": {
      "text/html": [
       "<div>\n",
       "<style scoped>\n",
       "    .dataframe tbody tr th:only-of-type {\n",
       "        vertical-align: middle;\n",
       "    }\n",
       "\n",
       "    .dataframe tbody tr th {\n",
       "        vertical-align: top;\n",
       "    }\n",
       "\n",
       "    .dataframe thead th {\n",
       "        text-align: right;\n",
       "    }\n",
       "</style>\n",
       "<table border=\"1\" class=\"dataframe\">\n",
       "  <thead>\n",
       "    <tr style=\"text-align: right;\">\n",
       "      <th></th>\n",
       "      <th>user_id</th>\n",
       "      <th>country</th>\n",
       "      <th>revenue_total</th>\n",
       "      <th>read_cnt_userid</th>\n",
       "      <th>revenue_article</th>\n",
       "    </tr>\n",
       "  </thead>\n",
       "  <tbody>\n",
       "    <tr>\n",
       "      <th>0</th>\n",
       "      <td>2.458151e+09</td>\n",
       "      <td>country_4</td>\n",
       "      <td>88.0</td>\n",
       "      <td>12</td>\n",
       "      <td>7.333333</td>\n",
       "    </tr>\n",
       "    <tr>\n",
       "      <th>1</th>\n",
       "      <td>2.458151e+09</td>\n",
       "      <td>country_4</td>\n",
       "      <td>88.0</td>\n",
       "      <td>12</td>\n",
       "      <td>7.333333</td>\n",
       "    </tr>\n",
       "    <tr>\n",
       "      <th>2</th>\n",
       "      <td>2.458151e+09</td>\n",
       "      <td>country_4</td>\n",
       "      <td>88.0</td>\n",
       "      <td>12</td>\n",
       "      <td>7.333333</td>\n",
       "    </tr>\n",
       "    <tr>\n",
       "      <th>3</th>\n",
       "      <td>2.458151e+09</td>\n",
       "      <td>country_4</td>\n",
       "      <td>88.0</td>\n",
       "      <td>12</td>\n",
       "      <td>7.333333</td>\n",
       "    </tr>\n",
       "    <tr>\n",
       "      <th>4</th>\n",
       "      <td>2.458151e+09</td>\n",
       "      <td>country_4</td>\n",
       "      <td>88.0</td>\n",
       "      <td>12</td>\n",
       "      <td>7.333333</td>\n",
       "    </tr>\n",
       "  </tbody>\n",
       "</table>\n",
       "</div>"
      ],
      "text/plain": [
       "        user_id    country  revenue_total  read_cnt_userid  revenue_article\n",
       "0  2.458151e+09  country_4           88.0               12         7.333333\n",
       "1  2.458151e+09  country_4           88.0               12         7.333333\n",
       "2  2.458151e+09  country_4           88.0               12         7.333333\n",
       "3  2.458151e+09  country_4           88.0               12         7.333333\n",
       "4  2.458151e+09  country_4           88.0               12         7.333333"
      ]
     },
     "execution_count": 60,
     "metadata": {},
     "output_type": "execute_result"
    }
   ],
   "source": [
    "joining.head()"
   ]
  },
  {
   "cell_type": "code",
   "execution_count": 61,
   "metadata": {},
   "outputs": [
    {
     "data": {
      "text/html": [
       "<div>\n",
       "<style scoped>\n",
       "    .dataframe tbody tr th:only-of-type {\n",
       "        vertical-align: middle;\n",
       "    }\n",
       "\n",
       "    .dataframe tbody tr th {\n",
       "        vertical-align: top;\n",
       "    }\n",
       "\n",
       "    .dataframe thead th {\n",
       "        text-align: right;\n",
       "    }\n",
       "</style>\n",
       "<table border=\"1\" class=\"dataframe\">\n",
       "  <thead>\n",
       "    <tr style=\"text-align: right;\">\n",
       "      <th></th>\n",
       "      <th>country</th>\n",
       "      <th>revenue_article</th>\n",
       "    </tr>\n",
       "  </thead>\n",
       "  <tbody>\n",
       "    <tr>\n",
       "      <th>0</th>\n",
       "      <td>country_1</td>\n",
       "      <td>920.0</td>\n",
       "    </tr>\n",
       "    <tr>\n",
       "      <th>1</th>\n",
       "      <td>country_2</td>\n",
       "      <td>39528.0</td>\n",
       "    </tr>\n",
       "    <tr>\n",
       "      <th>2</th>\n",
       "      <td>country_3</td>\n",
       "      <td>3616.0</td>\n",
       "    </tr>\n",
       "    <tr>\n",
       "      <th>3</th>\n",
       "      <td>country_4</td>\n",
       "      <td>33464.0</td>\n",
       "    </tr>\n",
       "    <tr>\n",
       "      <th>4</th>\n",
       "      <td>country_5</td>\n",
       "      <td>57920.0</td>\n",
       "    </tr>\n",
       "    <tr>\n",
       "      <th>5</th>\n",
       "      <td>country_6</td>\n",
       "      <td>16432.0</td>\n",
       "    </tr>\n",
       "    <tr>\n",
       "      <th>6</th>\n",
       "      <td>country_7</td>\n",
       "      <td>39760.0</td>\n",
       "    </tr>\n",
       "    <tr>\n",
       "      <th>7</th>\n",
       "      <td>country_8</td>\n",
       "      <td>2840.0</td>\n",
       "    </tr>\n",
       "  </tbody>\n",
       "</table>\n",
       "</div>"
      ],
      "text/plain": [
       "     country  revenue_article\n",
       "0  country_1            920.0\n",
       "1  country_2          39528.0\n",
       "2  country_3           3616.0\n",
       "3  country_4          33464.0\n",
       "4  country_5          57920.0\n",
       "5  country_6          16432.0\n",
       "6  country_7          39760.0\n",
       "7  country_8           2840.0"
      ]
     },
     "execution_count": 61,
     "metadata": {},
     "output_type": "execute_result"
    }
   ],
   "source": [
    "#Finding the Dilan's revenue per country taht Dillan might get\n",
    "joining.groupby('country')['revenue_article'].sum().to_frame().reset_index()"
   ]
  },
  {
   "cell_type": "code",
   "execution_count": 62,
   "metadata": {},
   "outputs": [],
   "source": [
    "joining_sum= joining.groupby('country')['revenue_article'].sum().to_frame().reset_index()"
   ]
  },
  {
   "cell_type": "code",
   "execution_count": 63,
   "metadata": {},
   "outputs": [
    {
     "name": "stderr",
     "output_type": "stream",
     "text": [
      "c:\\users\\mfardhossein\\appdata\\local\\programs\\python\\python37\\lib\\site-packages\\ipykernel_launcher.py:7: UserWarning: FixedFormatter should only be used together with FixedLocator\n",
      "  import sys\n"
     ]
    },
    {
     "data": {
      "image/png": "[encoded data removed]",
      "text/plain": [
       "<Figure size 432x288 with 1 Axes>"
      ]
     },
     "metadata": {
      "needs_background": "light"
     },
     "output_type": "display_data"
    }
   ],
   "source": [
    "fig, ax = plt.subplots()\n",
    "#print(medals.head())\n",
    "# Plot a bar-chart of gold medals as a function of country\n",
    "ax.bar(joining_sum['country'],joining_sum['revenue_article'])\n",
    "\n",
    "# Set the x-axis tick labels to the country names\n",
    "ax.set_xticklabels(joining_sum['country'], rotation=90)\n",
    "\n",
    "# Set the y-axis label\n",
    "ax.set_ylabel(\"Revenue per country\")\n",
    "\n",
    "\n",
    "plt.show()"
   ]
  },
  {
   "cell_type": "code",
   "execution_count": 64,
   "metadata": {},
   "outputs": [
    {
     "data": {
      "image/png": "[encoded data removed]",
      "text/plain": [
       "<Figure size 1080x720 with 1 Axes>"
      ]
     },
     "metadata": {
      "needs_background": "light"
     },
     "output_type": "display_data"
    }
   ],
   "source": [
    "g=sns.catplot(x=\"country\",y=\"revenue_article\",data=joining_sum,kind='bar',height=10, aspect=15/10)\n",
    "g.set_xticklabels(rotation=90)\n",
    "g.set(xlabel='Countries', ylabel='Reading Counts')\n",
    "plt.show()"
   ]
  },
  {
   "cell_type": "markdown",
   "metadata": {},
   "source": [
    "## Purchase behavior modeling\n",
    "\n",
    "Now we'll look at the relationship between the subscription numbers and the purchase numbers. We'll try to model the purchase behaviour using as input a few features of our users:\n",
    "- number of days without purchase\n",
    "- number of days since last activity (read, subscribe or purchase)\n",
    "- number of articles read\n",
    "- whether the user has subscribed to DTG's content or not\n",
    "\n",
    "Right from the outset we expect that the number of days without purchase and the number of articles read will be somewhat correlated; specifically, more days without purchase is expected to be positively correlated with the number of articles read. If that is the case, we will need to take action to improve the model."
   ]
  },
  {
   "cell_type": "markdown",
   "metadata": {},
   "source": [
    "### 3) Data Preparation"
   ]
  },
  {
   "cell_type": "code",
   "execution_count": 65,
   "metadata": {},
   "outputs": [
    {
     "data": {
      "text/html": [
       "<div>\n",
       "<style scoped>\n",
       "    .dataframe tbody tr th:only-of-type {\n",
       "        vertical-align: middle;\n",
       "    }\n",
       "\n",
       "    .dataframe tbody tr th {\n",
       "        vertical-align: top;\n",
       "    }\n",
       "\n",
       "    .dataframe thead th {\n",
       "        text-align: right;\n",
       "    }\n",
       "</style>\n",
       "<table border=\"1\" class=\"dataframe\">\n",
       "  <thead>\n",
       "    <tr style=\"text-align: right;\">\n",
       "      <th></th>\n",
       "      <th>day_time</th>\n",
       "      <th>event_type</th>\n",
       "      <th>country</th>\n",
       "      <th>user_id</th>\n",
       "      <th>source</th>\n",
       "      <th>topic</th>\n",
       "    </tr>\n",
       "  </thead>\n",
       "  <tbody>\n",
       "    <tr>\n",
       "      <th>0</th>\n",
       "      <td>2018-01-01 00:01:01</td>\n",
       "      <td>read</td>\n",
       "      <td>country_7</td>\n",
       "      <td>2.458151e+09</td>\n",
       "      <td>SEO</td>\n",
       "      <td>North America</td>\n",
       "    </tr>\n",
       "    <tr>\n",
       "      <th>1</th>\n",
       "      <td>2018-01-01 00:03:20</td>\n",
       "      <td>read</td>\n",
       "      <td>country_7</td>\n",
       "      <td>2.458151e+09</td>\n",
       "      <td>SEO</td>\n",
       "      <td>South America</td>\n",
       "    </tr>\n",
       "    <tr>\n",
       "      <th>2</th>\n",
       "      <td>2018-01-01 00:04:01</td>\n",
       "      <td>read</td>\n",
       "      <td>country_7</td>\n",
       "      <td>2.458151e+09</td>\n",
       "      <td>AdWords</td>\n",
       "      <td>Africa</td>\n",
       "    </tr>\n",
       "    <tr>\n",
       "      <th>3</th>\n",
       "      <td>2018-01-01 00:04:02</td>\n",
       "      <td>read</td>\n",
       "      <td>country_7</td>\n",
       "      <td>2.458151e+09</td>\n",
       "      <td>AdWords</td>\n",
       "      <td>Europe</td>\n",
       "    </tr>\n",
       "    <tr>\n",
       "      <th>4</th>\n",
       "      <td>2018-01-01 00:05:03</td>\n",
       "      <td>read</td>\n",
       "      <td>country_8</td>\n",
       "      <td>2.458151e+09</td>\n",
       "      <td>Reddit</td>\n",
       "      <td>North America</td>\n",
       "    </tr>\n",
       "  </tbody>\n",
       "</table>\n",
       "</div>"
      ],
      "text/plain": [
       "             day_time event_type    country       user_id   source  \\\n",
       "0 2018-01-01 00:01:01       read  country_7  2.458151e+09      SEO   \n",
       "1 2018-01-01 00:03:20       read  country_7  2.458151e+09      SEO   \n",
       "2 2018-01-01 00:04:01       read  country_7  2.458151e+09  AdWords   \n",
       "3 2018-01-01 00:04:02       read  country_7  2.458151e+09  AdWords   \n",
       "4 2018-01-01 00:05:03       read  country_8  2.458151e+09   Reddit   \n",
       "\n",
       "           topic  \n",
       "0  North America  \n",
       "1  South America  \n",
       "2         Africa  \n",
       "3         Europe  \n",
       "4  North America  "
      ]
     },
     "execution_count": 65,
     "metadata": {},
     "output_type": "execute_result"
    }
   ],
   "source": [
    "df_read.head()"
   ]
  },
  {
   "cell_type": "code",
   "execution_count": 66,
   "metadata": {},
   "outputs": [],
   "source": [
    "#Sumarizing the first readers tabel\n",
    "df_read_1= read_1_t[['day_time','event_type','user_id']]"
   ]
  },
  {
   "cell_type": "code",
   "execution_count": 67,
   "metadata": {},
   "outputs": [],
   "source": [
    "#Sumarizing the regular readers tabel\n",
    "df_read_2= read_2_t[['day_time','event_type','user_id']]"
   ]
  },
  {
   "cell_type": "code",
   "execution_count": 68,
   "metadata": {},
   "outputs": [],
   "source": [
    "#read table\n",
    "df_read_1_2= pd.concat([df_read_1, df_read_2], ignore_index=False)"
   ]
  },
  {
   "cell_type": "code",
   "execution_count": 69,
   "metadata": {},
   "outputs": [
    {
     "data": {
      "text/html": [
       "<div>\n",
       "<style scoped>\n",
       "    .dataframe tbody tr th:only-of-type {\n",
       "        vertical-align: middle;\n",
       "    }\n",
       "\n",
       "    .dataframe tbody tr th {\n",
       "        vertical-align: top;\n",
       "    }\n",
       "\n",
       "    .dataframe thead th {\n",
       "        text-align: right;\n",
       "    }\n",
       "</style>\n",
       "<table border=\"1\" class=\"dataframe\">\n",
       "  <thead>\n",
       "    <tr style=\"text-align: right;\">\n",
       "      <th></th>\n",
       "      <th>day_time</th>\n",
       "      <th>event_type</th>\n",
       "      <th>user_id</th>\n",
       "    </tr>\n",
       "  </thead>\n",
       "  <tbody>\n",
       "    <tr>\n",
       "      <th>0</th>\n",
       "      <td>2018-01-01 00:01:01</td>\n",
       "      <td>read</td>\n",
       "      <td>2.458151e+09</td>\n",
       "    </tr>\n",
       "    <tr>\n",
       "      <th>1</th>\n",
       "      <td>2018-01-01 00:03:20</td>\n",
       "      <td>read</td>\n",
       "      <td>2.458151e+09</td>\n",
       "    </tr>\n",
       "    <tr>\n",
       "      <th>2</th>\n",
       "      <td>2018-01-01 00:04:01</td>\n",
       "      <td>read</td>\n",
       "      <td>2.458151e+09</td>\n",
       "    </tr>\n",
       "    <tr>\n",
       "      <th>3</th>\n",
       "      <td>2018-01-01 00:04:02</td>\n",
       "      <td>read</td>\n",
       "      <td>2.458151e+09</td>\n",
       "    </tr>\n",
       "    <tr>\n",
       "      <th>4</th>\n",
       "      <td>2018-01-01 00:05:03</td>\n",
       "      <td>read</td>\n",
       "      <td>2.458151e+09</td>\n",
       "    </tr>\n",
       "  </tbody>\n",
       "</table>\n",
       "</div>"
      ],
      "text/plain": [
       "             day_time event_type       user_id\n",
       "0 2018-01-01 00:01:01       read  2.458151e+09\n",
       "1 2018-01-01 00:03:20       read  2.458151e+09\n",
       "2 2018-01-01 00:04:01       read  2.458151e+09\n",
       "3 2018-01-01 00:04:02       read  2.458151e+09\n",
       "4 2018-01-01 00:05:03       read  2.458151e+09"
      ]
     },
     "execution_count": 69,
     "metadata": {},
     "output_type": "execute_result"
    }
   ],
   "source": [
    "df_read_1_2.head()"
   ]
  },
  {
   "cell_type": "code",
   "execution_count": 70,
   "metadata": {},
   "outputs": [],
   "source": [
    "read_info= df_read_1_2.groupby('user_id').agg({'day_time': ['min', 'max'], 'user_id': 'count'}).reset_index()"
   ]
  },
  {
   "cell_type": "code",
   "execution_count": 71,
   "metadata": {},
   "outputs": [],
   "source": [
    "read_info.columns= ['user_id','read_first', 'read_last', 'read_count']"
   ]
  },
  {
   "cell_type": "code",
   "execution_count": 72,
   "metadata": {},
   "outputs": [
    {
     "data": {
      "text/html": [
       "<div>\n",
       "<style scoped>\n",
       "    .dataframe tbody tr th:only-of-type {\n",
       "        vertical-align: middle;\n",
       "    }\n",
       "\n",
       "    .dataframe tbody tr th {\n",
       "        vertical-align: top;\n",
       "    }\n",
       "\n",
       "    .dataframe thead th {\n",
       "        text-align: right;\n",
       "    }\n",
       "</style>\n",
       "<table border=\"1\" class=\"dataframe\">\n",
       "  <thead>\n",
       "    <tr style=\"text-align: right;\">\n",
       "      <th></th>\n",
       "      <th>user_id</th>\n",
       "      <th>read_first</th>\n",
       "      <th>read_last</th>\n",
       "      <th>read_count</th>\n",
       "    </tr>\n",
       "  </thead>\n",
       "  <tbody>\n",
       "    <tr>\n",
       "      <th>0</th>\n",
       "      <td>2.458151e+09</td>\n",
       "      <td>2018-01-01 00:01:01</td>\n",
       "      <td>2018-01-01 00:01:01</td>\n",
       "      <td>1</td>\n",
       "    </tr>\n",
       "    <tr>\n",
       "      <th>1</th>\n",
       "      <td>2.458151e+09</td>\n",
       "      <td>2018-01-01 00:03:20</td>\n",
       "      <td>2018-01-01 00:03:20</td>\n",
       "      <td>1</td>\n",
       "    </tr>\n",
       "    <tr>\n",
       "      <th>2</th>\n",
       "      <td>2.458151e+09</td>\n",
       "      <td>2018-01-01 00:04:01</td>\n",
       "      <td>2018-01-01 00:04:01</td>\n",
       "      <td>1</td>\n",
       "    </tr>\n",
       "    <tr>\n",
       "      <th>3</th>\n",
       "      <td>2.458151e+09</td>\n",
       "      <td>2018-01-01 00:04:02</td>\n",
       "      <td>2018-01-01 00:04:02</td>\n",
       "      <td>1</td>\n",
       "    </tr>\n",
       "    <tr>\n",
       "      <th>4</th>\n",
       "      <td>2.458151e+09</td>\n",
       "      <td>2018-01-01 00:05:03</td>\n",
       "      <td>2018-01-01 00:05:03</td>\n",
       "      <td>1</td>\n",
       "    </tr>\n",
       "  </tbody>\n",
       "</table>\n",
       "</div>"
      ],
      "text/plain": [
       "        user_id          read_first           read_last  read_count\n",
       "0  2.458151e+09 2018-01-01 00:01:01 2018-01-01 00:01:01           1\n",
       "1  2.458151e+09 2018-01-01 00:03:20 2018-01-01 00:03:20           1\n",
       "2  2.458151e+09 2018-01-01 00:04:01 2018-01-01 00:04:01           1\n",
       "3  2.458151e+09 2018-01-01 00:04:02 2018-01-01 00:04:02           1\n",
       "4  2.458151e+09 2018-01-01 00:05:03 2018-01-01 00:05:03           1"
      ]
     },
     "execution_count": 72,
     "metadata": {},
     "output_type": "execute_result"
    }
   ],
   "source": [
    "read_info.head()"
   ]
  },
  {
   "cell_type": "code",
   "execution_count": 73,
   "metadata": {},
   "outputs": [],
   "source": [
    "buy_info=df_buy.groupby('user_id').agg({'day_time': ['min', 'max'], 'price': 'sum'}).reset_index()"
   ]
  },
  {
   "cell_type": "code",
   "execution_count": 74,
   "metadata": {},
   "outputs": [],
   "source": [
    "buy_info.columns= ['buy_uid','first_purchase', 'last_purchase', 'revenue']"
   ]
  },
  {
   "cell_type": "code",
   "execution_count": 75,
   "metadata": {},
   "outputs": [
    {
     "data": {
      "text/html": [
       "<div>\n",
       "<style scoped>\n",
       "    .dataframe tbody tr th:only-of-type {\n",
       "        vertical-align: middle;\n",
       "    }\n",
       "\n",
       "    .dataframe tbody tr th {\n",
       "        vertical-align: top;\n",
       "    }\n",
       "\n",
       "    .dataframe thead th {\n",
       "        text-align: right;\n",
       "    }\n",
       "</style>\n",
       "<table border=\"1\" class=\"dataframe\">\n",
       "  <thead>\n",
       "    <tr style=\"text-align: right;\">\n",
       "      <th></th>\n",
       "      <th>buy_uid</th>\n",
       "      <th>first_purchase</th>\n",
       "      <th>last_purchase</th>\n",
       "      <th>revenue</th>\n",
       "    </tr>\n",
       "  </thead>\n",
       "  <tbody>\n",
       "    <tr>\n",
       "      <th>0</th>\n",
       "      <td>2.458151e+09</td>\n",
       "      <td>2018-01-04 00:50:27</td>\n",
       "      <td>2018-01-05 10:23:05</td>\n",
       "      <td>88.0</td>\n",
       "    </tr>\n",
       "    <tr>\n",
       "      <th>1</th>\n",
       "      <td>2.458151e+09</td>\n",
       "      <td>2018-01-10 02:09:21</td>\n",
       "      <td>2018-01-10 02:09:21</td>\n",
       "      <td>8.0</td>\n",
       "    </tr>\n",
       "    <tr>\n",
       "      <th>2</th>\n",
       "      <td>2.458151e+09</td>\n",
       "      <td>2018-02-24 18:22:05</td>\n",
       "      <td>2018-02-24 18:22:05</td>\n",
       "      <td>8.0</td>\n",
       "    </tr>\n",
       "    <tr>\n",
       "      <th>3</th>\n",
       "      <td>2.458151e+09</td>\n",
       "      <td>2018-01-22 08:09:06</td>\n",
       "      <td>2018-01-22 08:09:06</td>\n",
       "      <td>8.0</td>\n",
       "    </tr>\n",
       "    <tr>\n",
       "      <th>4</th>\n",
       "      <td>2.458151e+09</td>\n",
       "      <td>2018-01-26 09:02:07</td>\n",
       "      <td>2018-01-26 09:02:07</td>\n",
       "      <td>8.0</td>\n",
       "    </tr>\n",
       "  </tbody>\n",
       "</table>\n",
       "</div>"
      ],
      "text/plain": [
       "        buy_uid      first_purchase       last_purchase  revenue\n",
       "0  2.458151e+09 2018-01-04 00:50:27 2018-01-05 10:23:05     88.0\n",
       "1  2.458151e+09 2018-01-10 02:09:21 2018-01-10 02:09:21      8.0\n",
       "2  2.458151e+09 2018-02-24 18:22:05 2018-02-24 18:22:05      8.0\n",
       "3  2.458151e+09 2018-01-22 08:09:06 2018-01-22 08:09:06      8.0\n",
       "4  2.458151e+09 2018-01-26 09:02:07 2018-01-26 09:02:07      8.0"
      ]
     },
     "execution_count": 75,
     "metadata": {},
     "output_type": "execute_result"
    }
   ],
   "source": [
    "buy_info.head()"
   ]
  },
  {
   "cell_type": "code",
   "execution_count": 76,
   "metadata": {},
   "outputs": [],
   "source": [
    "subscribe_info= df_subscribe[['user_id','day_time' ]]"
   ]
  },
  {
   "cell_type": "code",
   "execution_count": 77,
   "metadata": {},
   "outputs": [],
   "source": [
    "subscribe_info.columns= ['sub_uid','subscribe_date']"
   ]
  },
  {
   "cell_type": "code",
   "execution_count": 78,
   "metadata": {},
   "outputs": [
    {
     "data": {
      "text/html": [
       "<div>\n",
       "<style scoped>\n",
       "    .dataframe tbody tr th:only-of-type {\n",
       "        vertical-align: middle;\n",
       "    }\n",
       "\n",
       "    .dataframe tbody tr th {\n",
       "        vertical-align: top;\n",
       "    }\n",
       "\n",
       "    .dataframe thead th {\n",
       "        text-align: right;\n",
       "    }\n",
       "</style>\n",
       "<table border=\"1\" class=\"dataframe\">\n",
       "  <thead>\n",
       "    <tr style=\"text-align: right;\">\n",
       "      <th></th>\n",
       "      <th>sub_uid</th>\n",
       "      <th>subscribe_date</th>\n",
       "    </tr>\n",
       "  </thead>\n",
       "  <tbody>\n",
       "    <tr>\n",
       "      <th>10</th>\n",
       "      <td>2.458151e+09</td>\n",
       "      <td>2018-01-01 00:07:41</td>\n",
       "    </tr>\n",
       "    <tr>\n",
       "      <th>11</th>\n",
       "      <td>2.458151e+09</td>\n",
       "      <td>2018-01-01 00:07:44</td>\n",
       "    </tr>\n",
       "    <tr>\n",
       "      <th>53</th>\n",
       "      <td>2.458151e+09</td>\n",
       "      <td>2018-01-01 00:40:55</td>\n",
       "    </tr>\n",
       "    <tr>\n",
       "      <th>101</th>\n",
       "      <td>2.458151e+09</td>\n",
       "      <td>2018-01-01 01:26:26</td>\n",
       "    </tr>\n",
       "    <tr>\n",
       "      <th>105</th>\n",
       "      <td>2.458151e+09</td>\n",
       "      <td>2018-01-01 01:30:39</td>\n",
       "    </tr>\n",
       "  </tbody>\n",
       "</table>\n",
       "</div>"
      ],
      "text/plain": [
       "          sub_uid      subscribe_date\n",
       "10   2.458151e+09 2018-01-01 00:07:41\n",
       "11   2.458151e+09 2018-01-01 00:07:44\n",
       "53   2.458151e+09 2018-01-01 00:40:55\n",
       "101  2.458151e+09 2018-01-01 01:26:26\n",
       "105  2.458151e+09 2018-01-01 01:30:39"
      ]
     },
     "execution_count": 78,
     "metadata": {},
     "output_type": "execute_result"
    }
   ],
   "source": [
    "subscribe_info.head()"
   ]
  },
  {
   "cell_type": "code",
   "execution_count": 79,
   "metadata": {},
   "outputs": [],
   "source": [
    "df_reg=read_info.merge(subscribe_info, how='left', left_on= 'user_id', right_on='sub_uid').merge(buy_info, how='left', left_on= 'user_id', right_on='buy_uid')"
   ]
  },
  {
   "cell_type": "code",
   "execution_count": 80,
   "metadata": {},
   "outputs": [
    {
     "data": {
      "text/html": [
       "<div>\n",
       "<style scoped>\n",
       "    .dataframe tbody tr th:only-of-type {\n",
       "        vertical-align: middle;\n",
       "    }\n",
       "\n",
       "    .dataframe tbody tr th {\n",
       "        vertical-align: top;\n",
       "    }\n",
       "\n",
       "    .dataframe thead th {\n",
       "        text-align: right;\n",
       "    }\n",
       "</style>\n",
       "<table border=\"1\" class=\"dataframe\">\n",
       "  <thead>\n",
       "    <tr style=\"text-align: right;\">\n",
       "      <th></th>\n",
       "      <th>user_id</th>\n",
       "      <th>read_first</th>\n",
       "      <th>read_last</th>\n",
       "      <th>read_count</th>\n",
       "      <th>sub_uid</th>\n",
       "      <th>subscribe_date</th>\n",
       "      <th>buy_uid</th>\n",
       "      <th>first_purchase</th>\n",
       "      <th>last_purchase</th>\n",
       "      <th>revenue</th>\n",
       "    </tr>\n",
       "  </thead>\n",
       "  <tbody>\n",
       "    <tr>\n",
       "      <th>0</th>\n",
       "      <td>2.458151e+09</td>\n",
       "      <td>2018-01-01 00:01:01</td>\n",
       "      <td>2018-01-01 00:01:01</td>\n",
       "      <td>1</td>\n",
       "      <td>NaN</td>\n",
       "      <td>NaT</td>\n",
       "      <td>NaN</td>\n",
       "      <td>NaT</td>\n",
       "      <td>NaT</td>\n",
       "      <td>NaN</td>\n",
       "    </tr>\n",
       "    <tr>\n",
       "      <th>1</th>\n",
       "      <td>2.458151e+09</td>\n",
       "      <td>2018-01-01 00:03:20</td>\n",
       "      <td>2018-01-01 00:03:20</td>\n",
       "      <td>1</td>\n",
       "      <td>NaN</td>\n",
       "      <td>NaT</td>\n",
       "      <td>NaN</td>\n",
       "      <td>NaT</td>\n",
       "      <td>NaT</td>\n",
       "      <td>NaN</td>\n",
       "    </tr>\n",
       "    <tr>\n",
       "      <th>2</th>\n",
       "      <td>2.458151e+09</td>\n",
       "      <td>2018-01-01 00:04:01</td>\n",
       "      <td>2018-01-01 00:04:01</td>\n",
       "      <td>1</td>\n",
       "      <td>NaN</td>\n",
       "      <td>NaT</td>\n",
       "      <td>NaN</td>\n",
       "      <td>NaT</td>\n",
       "      <td>NaT</td>\n",
       "      <td>NaN</td>\n",
       "    </tr>\n",
       "    <tr>\n",
       "      <th>3</th>\n",
       "      <td>2.458151e+09</td>\n",
       "      <td>2018-01-01 00:04:02</td>\n",
       "      <td>2018-01-01 00:04:02</td>\n",
       "      <td>1</td>\n",
       "      <td>NaN</td>\n",
       "      <td>NaT</td>\n",
       "      <td>NaN</td>\n",
       "      <td>NaT</td>\n",
       "      <td>NaT</td>\n",
       "      <td>NaN</td>\n",
       "    </tr>\n",
       "    <tr>\n",
       "      <th>4</th>\n",
       "      <td>2.458151e+09</td>\n",
       "      <td>2018-01-01 00:05:03</td>\n",
       "      <td>2018-01-01 00:05:03</td>\n",
       "      <td>1</td>\n",
       "      <td>NaN</td>\n",
       "      <td>NaT</td>\n",
       "      <td>NaN</td>\n",
       "      <td>NaT</td>\n",
       "      <td>NaT</td>\n",
       "      <td>NaN</td>\n",
       "    </tr>\n",
       "  </tbody>\n",
       "</table>\n",
       "</div>"
      ],
      "text/plain": [
       "        user_id          read_first           read_last  read_count  sub_uid  \\\n",
       "0  2.458151e+09 2018-01-01 00:01:01 2018-01-01 00:01:01           1      NaN   \n",
       "1  2.458151e+09 2018-01-01 00:03:20 2018-01-01 00:03:20           1      NaN   \n",
       "2  2.458151e+09 2018-01-01 00:04:01 2018-01-01 00:04:01           1      NaN   \n",
       "3  2.458151e+09 2018-01-01 00:04:02 2018-01-01 00:04:02           1      NaN   \n",
       "4  2.458151e+09 2018-01-01 00:05:03 2018-01-01 00:05:03           1      NaN   \n",
       "\n",
       "  subscribe_date  buy_uid first_purchase last_purchase  revenue  \n",
       "0            NaT      NaN            NaT           NaT      NaN  \n",
       "1            NaT      NaN            NaT           NaT      NaN  \n",
       "2            NaT      NaN            NaT           NaT      NaN  \n",
       "3            NaT      NaN            NaT           NaT      NaN  \n",
       "4            NaT      NaN            NaT           NaT      NaN  "
      ]
     },
     "execution_count": 80,
     "metadata": {},
     "output_type": "execute_result"
    }
   ],
   "source": [
    "df_reg.head()"
   ]
  },
  {
   "cell_type": "code",
   "execution_count": 81,
   "metadata": {},
   "outputs": [],
   "source": [
    "df_reg.set_index(keys='user_id', drop=True, inplace=True)"
   ]
  },
  {
   "cell_type": "code",
   "execution_count": 82,
   "metadata": {},
   "outputs": [
    {
     "data": {
      "text/html": [
       "<div>\n",
       "<style scoped>\n",
       "    .dataframe tbody tr th:only-of-type {\n",
       "        vertical-align: middle;\n",
       "    }\n",
       "\n",
       "    .dataframe tbody tr th {\n",
       "        vertical-align: top;\n",
       "    }\n",
       "\n",
       "    .dataframe thead th {\n",
       "        text-align: right;\n",
       "    }\n",
       "</style>\n",
       "<table border=\"1\" class=\"dataframe\">\n",
       "  <thead>\n",
       "    <tr style=\"text-align: right;\">\n",
       "      <th></th>\n",
       "      <th>read_first</th>\n",
       "      <th>read_last</th>\n",
       "      <th>read_count</th>\n",
       "      <th>sub_uid</th>\n",
       "      <th>subscribe_date</th>\n",
       "      <th>buy_uid</th>\n",
       "      <th>first_purchase</th>\n",
       "      <th>last_purchase</th>\n",
       "      <th>revenue</th>\n",
       "    </tr>\n",
       "    <tr>\n",
       "      <th>user_id</th>\n",
       "      <th></th>\n",
       "      <th></th>\n",
       "      <th></th>\n",
       "      <th></th>\n",
       "      <th></th>\n",
       "      <th></th>\n",
       "      <th></th>\n",
       "      <th></th>\n",
       "      <th></th>\n",
       "    </tr>\n",
       "  </thead>\n",
       "  <tbody>\n",
       "    <tr>\n",
       "      <th>2.458321e+09</th>\n",
       "      <td>2018-03-17 09:48:25</td>\n",
       "      <td>2018-03-17 09:48:25</td>\n",
       "      <td>1</td>\n",
       "      <td>NaN</td>\n",
       "      <td>NaT</td>\n",
       "      <td>NaN</td>\n",
       "      <td>NaT</td>\n",
       "      <td>NaT</td>\n",
       "      <td>NaN</td>\n",
       "    </tr>\n",
       "    <tr>\n",
       "      <th>2.458274e+09</th>\n",
       "      <td>2018-02-27 14:40:09</td>\n",
       "      <td>2018-02-27 14:40:09</td>\n",
       "      <td>1</td>\n",
       "      <td>NaN</td>\n",
       "      <td>NaT</td>\n",
       "      <td>NaN</td>\n",
       "      <td>NaT</td>\n",
       "      <td>NaT</td>\n",
       "      <td>NaN</td>\n",
       "    </tr>\n",
       "    <tr>\n",
       "      <th>2.458211e+09</th>\n",
       "      <td>2018-01-30 23:21:10</td>\n",
       "      <td>2018-02-17 06:03:43</td>\n",
       "      <td>6</td>\n",
       "      <td>NaN</td>\n",
       "      <td>NaT</td>\n",
       "      <td>NaN</td>\n",
       "      <td>NaT</td>\n",
       "      <td>NaT</td>\n",
       "      <td>NaN</td>\n",
       "    </tr>\n",
       "    <tr>\n",
       "      <th>2.458278e+09</th>\n",
       "      <td>2018-03-01 02:07:38</td>\n",
       "      <td>2018-03-01 02:07:38</td>\n",
       "      <td>1</td>\n",
       "      <td>NaN</td>\n",
       "      <td>NaT</td>\n",
       "      <td>NaN</td>\n",
       "      <td>NaT</td>\n",
       "      <td>NaT</td>\n",
       "      <td>NaN</td>\n",
       "    </tr>\n",
       "    <tr>\n",
       "      <th>2.458209e+09</th>\n",
       "      <td>2018-01-30 05:05:49</td>\n",
       "      <td>2018-01-30 05:05:49</td>\n",
       "      <td>1</td>\n",
       "      <td>NaN</td>\n",
       "      <td>NaT</td>\n",
       "      <td>NaN</td>\n",
       "      <td>NaT</td>\n",
       "      <td>NaT</td>\n",
       "      <td>NaN</td>\n",
       "    </tr>\n",
       "    <tr>\n",
       "      <th>2.458242e+09</th>\n",
       "      <td>2018-02-14 08:58:05</td>\n",
       "      <td>2018-02-14 08:58:05</td>\n",
       "      <td>1</td>\n",
       "      <td>NaN</td>\n",
       "      <td>NaT</td>\n",
       "      <td>NaN</td>\n",
       "      <td>NaT</td>\n",
       "      <td>NaT</td>\n",
       "      <td>NaN</td>\n",
       "    </tr>\n",
       "    <tr>\n",
       "      <th>2.458352e+09</th>\n",
       "      <td>2018-03-27 19:50:17</td>\n",
       "      <td>2018-03-28 01:35:17</td>\n",
       "      <td>2</td>\n",
       "      <td>NaN</td>\n",
       "      <td>NaT</td>\n",
       "      <td>NaN</td>\n",
       "      <td>NaT</td>\n",
       "      <td>NaT</td>\n",
       "      <td>NaN</td>\n",
       "    </tr>\n",
       "    <tr>\n",
       "      <th>2.458232e+09</th>\n",
       "      <td>2018-02-09 18:45:35</td>\n",
       "      <td>2018-02-17 22:43:51</td>\n",
       "      <td>17</td>\n",
       "      <td>2.458232e+09</td>\n",
       "      <td>2018-02-16 03:59:05</td>\n",
       "      <td>2.458232e+09</td>\n",
       "      <td>2018-02-13 08:22:43</td>\n",
       "      <td>2018-02-13 08:22:43</td>\n",
       "      <td>8.0</td>\n",
       "    </tr>\n",
       "    <tr>\n",
       "      <th>2.458253e+09</th>\n",
       "      <td>2018-02-19 00:30:02</td>\n",
       "      <td>2018-02-19 00:30:02</td>\n",
       "      <td>1</td>\n",
       "      <td>NaN</td>\n",
       "      <td>NaT</td>\n",
       "      <td>NaN</td>\n",
       "      <td>NaT</td>\n",
       "      <td>NaT</td>\n",
       "      <td>NaN</td>\n",
       "    </tr>\n",
       "    <tr>\n",
       "      <th>2.458241e+09</th>\n",
       "      <td>2018-02-13 15:06:55</td>\n",
       "      <td>2018-02-16 16:30:11</td>\n",
       "      <td>8</td>\n",
       "      <td>NaN</td>\n",
       "      <td>NaT</td>\n",
       "      <td>NaN</td>\n",
       "      <td>NaT</td>\n",
       "      <td>NaT</td>\n",
       "      <td>NaN</td>\n",
       "    </tr>\n",
       "  </tbody>\n",
       "</table>\n",
       "</div>"
      ],
      "text/plain": [
       "                      read_first           read_last  read_count  \\\n",
       "user_id                                                            \n",
       "2.458321e+09 2018-03-17 09:48:25 2018-03-17 09:48:25           1   \n",
       "2.458274e+09 2018-02-27 14:40:09 2018-02-27 14:40:09           1   \n",
       "2.458211e+09 2018-01-30 23:21:10 2018-02-17 06:03:43           6   \n",
       "2.458278e+09 2018-03-01 02:07:38 2018-03-01 02:07:38           1   \n",
       "2.458209e+09 2018-01-30 05:05:49 2018-01-30 05:05:49           1   \n",
       "2.458242e+09 2018-02-14 08:58:05 2018-02-14 08:58:05           1   \n",
       "2.458352e+09 2018-03-27 19:50:17 2018-03-28 01:35:17           2   \n",
       "2.458232e+09 2018-02-09 18:45:35 2018-02-17 22:43:51          17   \n",
       "2.458253e+09 2018-02-19 00:30:02 2018-02-19 00:30:02           1   \n",
       "2.458241e+09 2018-02-13 15:06:55 2018-02-16 16:30:11           8   \n",
       "\n",
       "                   sub_uid      subscribe_date       buy_uid  \\\n",
       "user_id                                                        \n",
       "2.458321e+09           NaN                 NaT           NaN   \n",
       "2.458274e+09           NaN                 NaT           NaN   \n",
       "2.458211e+09           NaN                 NaT           NaN   \n",
       "2.458278e+09           NaN                 NaT           NaN   \n",
       "2.458209e+09           NaN                 NaT           NaN   \n",
       "2.458242e+09           NaN                 NaT           NaN   \n",
       "2.458352e+09           NaN                 NaT           NaN   \n",
       "2.458232e+09  2.458232e+09 2018-02-16 03:59:05  2.458232e+09   \n",
       "2.458253e+09           NaN                 NaT           NaN   \n",
       "2.458241e+09           NaN                 NaT           NaN   \n",
       "\n",
       "                  first_purchase       last_purchase  revenue  \n",
       "user_id                                                        \n",
       "2.458321e+09                 NaT                 NaT      NaN  \n",
       "2.458274e+09                 NaT                 NaT      NaN  \n",
       "2.458211e+09                 NaT                 NaT      NaN  \n",
       "2.458278e+09                 NaT                 NaT      NaN  \n",
       "2.458209e+09                 NaT                 NaT      NaN  \n",
       "2.458242e+09                 NaT                 NaT      NaN  \n",
       "2.458352e+09                 NaT                 NaT      NaN  \n",
       "2.458232e+09 2018-02-13 08:22:43 2018-02-13 08:22:43      8.0  \n",
       "2.458253e+09                 NaT                 NaT      NaN  \n",
       "2.458241e+09                 NaT                 NaT      NaN  "
      ]
     },
     "execution_count": 82,
     "metadata": {},
     "output_type": "execute_result"
    }
   ],
   "source": [
    "df_reg.sample(10)"
   ]
  },
  {
   "cell_type": "markdown",
   "metadata": {},
   "source": [
    "Now that we have the data, let's wrangle it into a format the regression engine will understand. \n",
    "\n",
    "#### Number of articles read vs. revenue \n",
    "\n",
    "This is the most obvious clue that DTG's customers are interested in buying it's products. Let's see what the relationship looks like. \n",
    "\n",
    "First, extract the necessary parameters:"
   ]
  },
  {
   "cell_type": "code",
   "execution_count": 91,
   "metadata": {},
   "outputs": [],
   "source": [
    "x_log = df_reg['read_count']"
   ]
  },
  {
   "cell_type": "markdown",
   "metadata": {},
   "source": [
    "### Missing data\n",
    "Here we have many NA in the revenue column which we will turn all them to 0 "
   ]
  },
  {
   "cell_type": "code",
   "execution_count": 92,
   "metadata": {},
   "outputs": [],
   "source": [
    "#Handling missing data in the y axis\n",
    "y_log = df_reg['revenue'].fillna(0).astype(int)"
   ]
  },
  {
   "cell_type": "code",
   "execution_count": 84,
   "metadata": {},
   "outputs": [
    {
     "name": "stderr",
     "output_type": "stream",
     "text": [
      "c:\\users\\mfardhossein\\appdata\\local\\programs\\python\\python37\\lib\\site-packages\\ipykernel_launcher.py:2: MatplotlibDeprecationWarning: Calling add_axes() without argument is deprecated since 3.3 and will be removed two minor releases later. You may want to use add_subplot() instead.\n",
      "  \n"
     ]
    },
    {
     "data": {
      "text/plain": [
       "<AxesSubplot:xlabel='read_count', ylabel='revenue'>"
      ]
     },
     "execution_count": 84,
     "metadata": {},
     "output_type": "execute_result"
    },
    {
     "data": {
      "image/png": "[encoded data removed]",
      "text/plain": [
       "<Figure size 864x576 with 1 Axes>"
      ]
     },
     "metadata": {
      "needs_background": "light"
     },
     "output_type": "display_data"
    }
   ],
   "source": [
    "fig = plt.figure(figsize=(12,8))\n",
    "ax = fig.add_axes()\n",
    "sns.scatterplot(x=x_log, y=y_log, ax=ax, label='data', alpha=0.01)\n",
    "#ax2 = plt.subplot(122)\n",
    "sns.lineplot(x=x_log, y=y_log, ax=ax, label = 'logistic model', color = 'darkred')"
   ]
  },
  {
   "cell_type": "markdown",
   "metadata": {},
   "source": [
    "From the graph above, we can extract a few conclusions:\n",
    "\n",
    "1. There are only 4 possible values for the amount spent: \\\\$0, \\\\$8, \\\\$80 and \\\\$88;\n",
    "2. Not many people spend \\\\$80;\n",
    "2. This relationship looks roughly logistic in nature. Let's see how the logistic model performs."
   ]
  },
  {
   "cell_type": "markdown",
   "metadata": {},
   "source": [
    "### 4) Modeling"
   ]
  },
  {
   "cell_type": "code",
   "execution_count": 85,
   "metadata": {},
   "outputs": [],
   "source": [
    "from sklearn.linear_model import LogisticRegression\n",
    "from sklearn.model_selection import train_test_split as tts\n",
    "from sklearn.model_selection import cross_validate as cv\n",
    "\n",
    "spent_values = y_log.astype('category').cat.categories\n",
    "\n",
    "X_train, X_test, y_train, y_test = tts(x_log.values.reshape(-1,1), y_log.values, test_size = 0.2)\n",
    "\n",
    "mdl_log = LogisticRegression(solver = 'lbfgs', multi_class = 'multinomial')\n",
    "mdl_log.fit(X_train, y_train)\n",
    "\n",
    "models = {\n",
    "    'log-1d': {\n",
    "        'model': mdl_log,\n",
    "        'X_train': X_train,\n",
    "        'X_test': X_test,\n",
    "        'y_train': y_train,\n",
    "        'y_test': y_test\n",
    "    }\n",
    "}"
   ]
  },
  {
   "cell_type": "markdown",
   "metadata": {},
   "source": [
    "### 5) Evaluation"
   ]
  },
  {
   "cell_type": "markdown",
   "metadata": {},
   "source": [
    "Let's run a quick test to see how the fitted model performs against a dataset it didn't see before:"
   ]
  },
  {
   "cell_type": "code",
   "execution_count": 86,
   "metadata": {},
   "outputs": [
    {
     "name": "stderr",
     "output_type": "stream",
     "text": [
      "c:\\users\\mfardhossein\\appdata\\local\\programs\\python\\python37\\lib\\site-packages\\sklearn\\model_selection\\_split.py:672: UserWarning: The least populated class in y has only 3 members, which is less than n_splits=5.\n",
      "  % (min_groups, self.n_splits)), UserWarning)\n",
      "c:\\users\\mfardhossein\\appdata\\local\\programs\\python\\python37\\lib\\site-packages\\sklearn\\model_selection\\_split.py:672: UserWarning: The least populated class in y has only 3 members, which is less than n_splits=5.\n",
      "  % (min_groups, self.n_splits)), UserWarning)\n"
     ]
    },
    {
     "name": "stdout",
     "output_type": "stream",
     "text": [
      "Average R-squared using 5-fold crossvalidation on test data: 98.434%\n",
      "Average balanced accuracy using 5-fold crossvalidation on test data: 66.661%\n"
     ]
    }
   ],
   "source": [
    "from sklearn.metrics import balanced_accuracy_score\n",
    "\n",
    "# create a k-fold croos validation iterator of k=5 folds\n",
    "kf = 5\n",
    "\n",
    "scores_r2_test = cv(mdl_log, X_test, y_test, cv = kf)\n",
    "scores_ba_test = cv(mdl_log, X_test, y_test, cv = kf, scoring='balanced_accuracy')\n",
    "mean_scores_r2 = np.mean(scores_r2_test['test_score'])\n",
    "mean_scores_ba = np.mean(scores_ba_test['test_score'])\n",
    "print(f'Average R-squared using {kf:n}-fold crossvalidation on test data: {mean_scores_r2:.3%}')\n",
    "print(f'Average balanced accuracy using {kf:n}-fold crossvalidation on test data: {mean_scores_ba:.3%}')"
   ]
  },
  {
   "cell_type": "markdown",
   "metadata": {},
   "source": [
    "### 6) Deployment"
   ]
  },
  {
   "cell_type": "markdown",
   "metadata": {},
   "source": [
    "Quite well, aparently! Let's try and fit this model to all the users who are not yet customers to see if any of them look like potential buyers:"
   ]
  },
  {
   "cell_type": "code",
   "execution_count": 87,
   "metadata": {},
   "outputs": [],
   "source": [
    "non_buyers_x = df_reg[pd.isnull(df_reg['buy_uid'])]['read_count']\n",
    "preds = mdl_log.predict_proba(non_buyers_x.values.reshape(-1,1))\n",
    "spent_values.name = 'probability of spending...'\n",
    "#df_pred = pd.DataFrame(preds, columns = list(map('spend_${:n}'.format, spent_values)), index=non_buyers_x.index)\n",
    "df_pred = pd.DataFrame(preds, columns = spent_values, index=non_buyers_x.index)\n",
    "df_pred['expected_revenue'] = np.dot(df_pred.filter(regex='.*[0-9]+'), spent_values)"
   ]
  },
  {
   "cell_type": "code",
   "execution_count": 88,
   "metadata": {},
   "outputs": [
    {
     "data": {
      "text/html": [
       "<div>\n",
       "<style scoped>\n",
       "    .dataframe tbody tr th:only-of-type {\n",
       "        vertical-align: middle;\n",
       "    }\n",
       "\n",
       "    .dataframe tbody tr th {\n",
       "        vertical-align: top;\n",
       "    }\n",
       "\n",
       "    .dataframe thead th {\n",
       "        text-align: right;\n",
       "    }\n",
       "</style>\n",
       "<table border=\"1\" class=\"dataframe\">\n",
       "  <thead>\n",
       "    <tr style=\"text-align: right;\">\n",
       "      <th>probability of spending...</th>\n",
       "      <th>0</th>\n",
       "      <th>8</th>\n",
       "      <th>80</th>\n",
       "      <th>88</th>\n",
       "      <th>expected_revenue</th>\n",
       "    </tr>\n",
       "    <tr>\n",
       "      <th>user_id</th>\n",
       "      <th></th>\n",
       "      <th></th>\n",
       "      <th></th>\n",
       "      <th></th>\n",
       "      <th></th>\n",
       "    </tr>\n",
       "  </thead>\n",
       "  <tbody>\n",
       "    <tr>\n",
       "      <th>2.458259e+09</th>\n",
       "      <td>0.13%</td>\n",
       "      <td>46.64%</td>\n",
       "      <td>0.13%</td>\n",
       "      <td>53.10%</td>\n",
       "      <td>$50.56</td>\n",
       "    </tr>\n",
       "    <tr>\n",
       "      <th>2.458247e+09</th>\n",
       "      <td>0.13%</td>\n",
       "      <td>46.64%</td>\n",
       "      <td>0.13%</td>\n",
       "      <td>53.10%</td>\n",
       "      <td>$50.56</td>\n",
       "    </tr>\n",
       "    <tr>\n",
       "      <th>2.458307e+09</th>\n",
       "      <td>0.40%</td>\n",
       "      <td>61.23%</td>\n",
       "      <td>0.14%</td>\n",
       "      <td>38.22%</td>\n",
       "      <td>$38.65</td>\n",
       "    </tr>\n",
       "    <tr>\n",
       "      <th>2.458174e+09</th>\n",
       "      <td>0.40%</td>\n",
       "      <td>61.23%</td>\n",
       "      <td>0.14%</td>\n",
       "      <td>38.22%</td>\n",
       "      <td>$38.65</td>\n",
       "    </tr>\n",
       "    <tr>\n",
       "      <th>2.458202e+09</th>\n",
       "      <td>0.40%</td>\n",
       "      <td>61.23%</td>\n",
       "      <td>0.14%</td>\n",
       "      <td>38.22%</td>\n",
       "      <td>$38.65</td>\n",
       "    </tr>\n",
       "    <tr>\n",
       "      <th>...</th>\n",
       "      <td>...</td>\n",
       "      <td>...</td>\n",
       "      <td>...</td>\n",
       "      <td>...</td>\n",
       "      <td>...</td>\n",
       "    </tr>\n",
       "    <tr>\n",
       "      <th>2.458205e+09</th>\n",
       "      <td>45.35%</td>\n",
       "      <td>53.70%</td>\n",
       "      <td>0.05%</td>\n",
       "      <td>0.91%</td>\n",
       "      <td>$5.13</td>\n",
       "    </tr>\n",
       "    <tr>\n",
       "      <th>2.458270e+09</th>\n",
       "      <td>45.35%</td>\n",
       "      <td>53.70%</td>\n",
       "      <td>0.05%</td>\n",
       "      <td>0.91%</td>\n",
       "      <td>$5.13</td>\n",
       "    </tr>\n",
       "    <tr>\n",
       "      <th>2.458206e+09</th>\n",
       "      <td>45.35%</td>\n",
       "      <td>53.70%</td>\n",
       "      <td>0.05%</td>\n",
       "      <td>0.91%</td>\n",
       "      <td>$5.13</td>\n",
       "    </tr>\n",
       "    <tr>\n",
       "      <th>2.458269e+09</th>\n",
       "      <td>45.35%</td>\n",
       "      <td>53.70%</td>\n",
       "      <td>0.05%</td>\n",
       "      <td>0.91%</td>\n",
       "      <td>$5.13</td>\n",
       "    </tr>\n",
       "    <tr>\n",
       "      <th>2.458343e+09</th>\n",
       "      <td>45.35%</td>\n",
       "      <td>53.70%</td>\n",
       "      <td>0.05%</td>\n",
       "      <td>0.91%</td>\n",
       "      <td>$5.13</td>\n",
       "    </tr>\n",
       "  </tbody>\n",
       "</table>\n",
       "<p>1000 rows × 5 columns</p>\n",
       "</div>"
      ],
      "text/plain": [
       "probability of spending...       0       8     80      88 expected_revenue\n",
       "user_id                                                                   \n",
       "2.458259e+09                 0.13%  46.64%  0.13%  53.10%           $50.56\n",
       "2.458247e+09                 0.13%  46.64%  0.13%  53.10%           $50.56\n",
       "2.458307e+09                 0.40%  61.23%  0.14%  38.22%           $38.65\n",
       "2.458174e+09                 0.40%  61.23%  0.14%  38.22%           $38.65\n",
       "2.458202e+09                 0.40%  61.23%  0.14%  38.22%           $38.65\n",
       "...                            ...     ...    ...     ...              ...\n",
       "2.458205e+09                45.35%  53.70%  0.05%   0.91%            $5.13\n",
       "2.458270e+09                45.35%  53.70%  0.05%   0.91%            $5.13\n",
       "2.458206e+09                45.35%  53.70%  0.05%   0.91%            $5.13\n",
       "2.458269e+09                45.35%  53.70%  0.05%   0.91%            $5.13\n",
       "2.458343e+09                45.35%  53.70%  0.05%   0.91%            $5.13\n",
       "\n",
       "[1000 rows x 5 columns]"
      ]
     },
     "metadata": {},
     "output_type": "display_data"
    },
    {
     "name": "stdout",
     "output_type": "stream",
     "text": [
      "Expected revenue from users who are predicted to spend money: $7740.84\n",
      "Total expected revenue from all users who are not buyers: $15742.43\n"
     ]
    }
   ],
   "source": [
    "def display_pred(df_pred):\n",
    "    '''\n",
    "    input: a dataframe\n",
    "    Output: display all the userid individuals and their predicted amount of spending. the function represent teh proability that a\n",
    "    an individual could spend either 0 or 8 or 80 or 88$ and the overal expected revenue(here we filter the amount and put it in a clean format)\n",
    "    '''\n",
    "    df_pred_disp = pd.DataFrame([], columns = df_pred.columns)\n",
    "    for col in df_pred.filter(regex='[0-9]*'):\n",
    "        df_pred_disp[col] = df_pred[col].map('{:.2%}'.format)\n",
    "    for col in df_pred.filter(regex='.*revenue.*'):\n",
    "        df_pred_disp[col] = df_pred[col].map('${:,.2f}'.format)\n",
    "    \n",
    "    display(df_pred_disp)\n",
    "    del df_pred_disp\n",
    "    \n",
    "display_pred(df_pred[df_pred[0] < 0.5].sort_values(by='expected_revenue', ascending=False))\n",
    "\n",
    "print('Expected revenue from users who are predicted to spend money: ${:.2f}'.format(df_pred[df_pred[0] < 0.5]['expected_revenue'].sum()))\n",
    "print('Total expected revenue from all users who are not buyers: ${:.2f}'.format(df_pred['expected_revenue'].sum()))"
   ]
  },
  {
   "cell_type": "markdown",
   "metadata": {},
   "source": [
    "Looks like there are quite a few potential buyers who are more likely to buy than to not buy. These potential buyers are ordered by expected revenue, so you can target whatever amount of users you can afford."
   ]
  }
 ],
 "metadata": {
  "kernelspec": {
   "display_name": "Python 3",
   "language": "python",
   "name": "python3"
  },
  "language_info": {
   "codemirror_mode": {
    "name": "ipython",
    "version": 3
   },
   "file_extension": ".py",
   "mimetype": "text/x-python",
   "name": "python",
   "nbconvert_exporter": "python",
   "pygments_lexer": "ipython3",
   "version": "3.7.9"
  }
 },
 "nbformat": 4,
 "nbformat_minor": 4
}
